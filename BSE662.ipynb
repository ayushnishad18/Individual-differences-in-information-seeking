{
  "cells": [
    {
      "cell_type": "code",
      "execution_count": null,
      "metadata": {
        "id": "wMntc3hUgZiA"
      },
      "outputs": [],
      "source": [
        "import os\n",
        "import csv\n",
        "import numpy as np\n",
        "import pandas as pd\n",
        "x= pd.read_csv(\"/content/infoseek.csv\")\n",
        "x= x.drop(\"Timestamp\", axis='columns')\n",
        "x= x.drop([\"Email Address\",\"Select accept if you agree with the informed consent.\"], axis='columns')"
      ]
    },
    {
      "cell_type": "code",
      "source": [
        "for i in z:\n",
        "  print(i)"
      ],
      "metadata": {
        "colab": {
          "base_uri": "https://localhost:8080/"
        },
        "id": "eGuo-sw8xuY9",
        "outputId": "00bff7f2-0e88-489e-e804-1bd82fea1898"
      },
      "execution_count": null,
      "outputs": [
        {
          "output_type": "stream",
          "name": "stdout",
          "text": [
            "Seeing the below 5 second clip of a youtube video do you want to watch the whole video?\n",
            "Now please answer the below questions with regard to the above video - [How USEFUL would it be to know what was in the video? (-3 not at all useful, +3 very useful)]\n",
            "Now please answer the below questions with regard to the above video - [How would you FEEL if you could watch the full video? (-3 very bad, +3 very good)]\n",
            "Now please answer the below questions with regard to the above video - [How OFTEN do you think about such kind of video?]\n",
            "Seeing the below 5 second clip of a youtube video do you want to watch the whole video?.1\n",
            "Now please answer the below questions with regard to the above video - [How USEFUL would it be to know what was in the video? (-3 not at all useful, +3 very useful)].1\n",
            "Now please answer the below questions with regard to the above video - [How would you FEEL if you could watch the full video? (-3 very bad, +3 very good)].1\n",
            "Now please answer the below questions with regard to the above video - [How OFTEN do you think about such kind of video?].1\n",
            "Seeing the below 5 second clip of a youtube video do you want to watch the whole video?.2\n",
            "Now please answer the below questions with regard to the above video - [How USEFUL would it be to know what was in the video? (-3 not at all useful, +3 very useful)].2\n",
            "Now please answer the below questions with regard to the above video - [How would you FEEL if you could watch the full video? (-3 very bad, +3 very good)].2\n",
            "Now please answer the below questions with regard to the above video - [How OFTEN do you think about such kind of video?].2\n",
            "Seeing the below 5 second clip of a youtube video do you want to watch the whole video?.3\n",
            "Now please answer the below questions with regard to the above video - [How USEFUL would it be to know what was in the video? (-3 not at all useful, +3 very useful)].3\n",
            "Now please answer the below questions with regard to the above video - [How would you FEEL if you could watch the full video? (-3 very bad, +3 very good)].3\n",
            "Now please answer the below questions with regard to the above video - [How OFTEN do you think about such kind of video?].3\n",
            "Seeing the below 5 second clip of a youtube video do you want to watch the whole video?.4\n",
            "Now please answer the below questions with regard to the above video - [How USEFUL would it be to know what was in the video? (-3 not at all useful, +3 very useful)].4\n",
            "Now please answer the below questions with regard to the above video - [How would you FEEL if you could watch the full video? (-3 very bad, +3 very good)].4\n",
            "Now please answer the below questions with regard to the above video - [How OFTEN do you think about such kind of video?].4\n",
            "Now please answer the below questions with regard to the above video - [Please select +2]\n",
            "Seeing the below thumbnail of a youtube video do you want to watch the whole video?\n",
            "Now please answer the below questions with regard to the above video thumbnail - [How USEFUL would it be to know what was in the video? (-3 not at all useful, +3 very useful)]\n",
            "Now please answer the below questions with regard to the above video thumbnail - [How would you FEEL if you could watch the full video? (-3 very bad, +3 very good)]\n",
            "Now please answer the below questions with regard to the above video thumbnail - [How OFTEN do you think about such kind of video?]\n",
            "Seeing the below thumbnail of a youtube video do you want to watch the whole video?.1\n",
            "Now please answer the below questions with regard to the above video thumbnail - [How USEFUL would it be to know what was in the video? (-3 not at all useful, +3 very useful)].1\n",
            "Now please answer the below questions with regard to the above video thumbnail - [How would you FEEL if you could watch the full video? (-3 very bad, +3 very good)].1\n",
            "Now please answer the below questions with regard to the above video thumbnail - [How OFTEN do you think about such kind of video?].1\n",
            "Seeing the below thumbnail of a youtube video do you want to watch the whole video?.2\n",
            "Now please answer the below questions with regard to the above video thumbnail - [How USEFUL would it be to know what was in the video? (-3 not at all useful, +3 very useful)].2\n",
            "Now please answer the below questions with regard to the above video thumbnail - [How would you FEEL if you could watch the full video? (-3 very bad, +3 very good)].2\n",
            "Now please answer the below questions with regard to the above video thumbnail - [How OFTEN do you think about such kind of video?].2\n",
            "Seeing the below thumbnail of a youtube video do you want to watch the whole video?.3\n",
            "Now please answer the below questions with regard to the above video thumbnail - [How USEFUL would it be to know what was in the video? (-3 not at all useful, +3 very useful)].3\n",
            "Now please answer the below questions with regard to the above video thumbnail - [How would you FEEL if you could watch the full video? (-3 very bad, +3 very good)].3\n",
            "Now please answer the below questions with regard to the above video thumbnail - [How OFTEN do you think about such kind of video?].3\n",
            "Seeing the below thumbnail of a youtube video do you want to watch the whole video?.4\n",
            "Now please answer the below questions with regard to the above video thumbnail - [How USEFUL would it be to know what was in the video? (-3 not at all useful, +3 very useful)].4\n",
            "Now please answer the below questions with regard to the above video thumbnail - [How would you FEEL if you could watch the full video? (-3 very bad, +3 very good)].4\n",
            "Now please answer the below questions with regard to the above video thumbnail - [How OFTEN do you think about such kind of video?].4\n",
            "Would you like to know how your family/friends would rate you on being: [Kind?]\n",
            "Would you like to know how your family/friends would rate you on being: [Brave?]\n",
            "Would you like to know how your family/friends would rate you on being: [Humorous?]\n",
            "Would you like to know how your family/friends would rate you on being: [Calm?]\n",
            "Would you like to know how your family/friends would rate you on being: [Mean?]\n",
            "Would you like to know how your family/friends would rate you on being: [Competitive?]\n",
            "Would you like to know how your family/friends would rate you on being: [Creative?]\n",
            "Would you like to know how your family/friends would rate you on being: [Smart?]\n",
            "Would you like to know how your family/friends would rate you on being: [Diligent? ]\n",
            "Would you like to know how your family/friends would rate you on being: [Rude?]\n",
            "On being KIND - [What rating do you think your family and friends will give you?]\n",
            "On being KIND - [How USEFUL would it be to know how your friends/family have rated you?]\n",
            "On being KIND - [How would you FEEL if you got to find out how you were rated?]\n",
            "On being KIND - [How OFTEN do you think about Kindness?]\n",
            "On being BRAVE - [What rating do you think your family and friends will give you?]\n",
            "On being BRAVE - [How USEFUL would it be to know how your friends/family have rated you?]\n",
            "On being BRAVE - [How would you FEEL if you got to find out how you were rated?]\n",
            "On being BRAVE - [How OFTEN do you think about Braveness?]\n",
            "On being HUMOUROUS- [What rating do you think your family and friends will give you?]\n",
            "On being HUMOUROUS- [How USEFUL would it be to know how your friends/family have rated you?]\n",
            "On being HUMOUROUS- [How would you FEEL if you got to find out how you were rated?]\n",
            "On being HUMOUROUS- [How OFTEN do you think about being humourous?]\n",
            "On being Calm- [What rating do you think your family and friends will give you?]\n",
            "On being Calm- [How USEFUL would it be to know how your friends/family have rated you?]\n",
            "On being Calm- [How would you FEEL if you got to find out how you were rated?]\n",
            "On being Calm- [How OFTEN do you think about calmness?]\n",
            "On being Mean - [What rating do you think your family and friends will give you?]\n",
            "On being Mean - [How USEFUL would it be to know how your friends/family have rated you?]\n",
            "On being Mean - [How would you FEEL if you got to find out how you were rated?]\n",
            "On being Mean - [How OFTEN do you think about meanness?]\n",
            "On being COMPETITIVE- [What rating do you think your family and friends will give you?]\n",
            "On being COMPETITIVE- [How USEFUL would it be to know how your friends/family have rated you?]\n",
            "On being COMPETITIVE- [How would you FEEL if you got to find out how you were rated?]\n",
            "On being COMPETITIVE- [How OFTEN do you think about competition?]\n",
            "On being CREATIVE- [What rating do you think your family and friends will give you?]\n",
            "On being CREATIVE- [How USEFUL would it be to know how your friends/family have rated you?]\n",
            "On being CREATIVE- [How would you FEEL if you got to find out how you were rated?]\n",
            "On being CREATIVE- [How OFTEN do you think about creativeness?]\n",
            "On being CREATIVE- [Please select -2]\n",
            "On being SMART- [What rating do you think your family and friends will give you?]\n",
            "On being SMART- [How USEFUL would it be to know how your friends/family have rated you?]\n",
            "On being SMART- [How would you FEEL if you got to find out how you were rated?]\n",
            "On being SMART- [How OFTEN do you think about smartness?]\n",
            "On being DILIGENT- [What rating do you think your family and friends will give you?]\n",
            "On being DILIGENT- [How USEFUL would it be to know how your friends/family have rated you?]\n",
            "On being DILIGENT- [How would you FEEL if you got to find out how you were rated?]\n",
            "On being DILIGENT- [How OFTEN do you think about diligence?]\n",
            "On being RUDE- [What rating do you think your family and friends will give you?]\n",
            "On being RUDE- [How USEFUL would it be to know how your friends/family have rated you?]\n",
            "On being RUDE- [How would you FEEL if you got to find out how you were rated?]\n",
            "On being RUDE- [How OFTEN do you think about dominance?]\n",
            "Do you want to know [what the Gross Domestic Product is?]\n",
            "Do you want to know [what your health expenses are?]\n",
            "Do you want to know [whether your credit card information has been compromised?]\n",
            "Do you want to know [how your salary compares to others doing a similar job?]\n",
            "Do you want to know [what the gender ratio is for individuals with your job title?]\n",
            "Do you want to know [how much your property is worth?]\n",
            "Do you want to know [how much you will pay in travel expenses this year?]\n",
            "Do you want to know [what the unemployment rate is in your country?]\n",
            "Do you want to know [what you had spent on dining this year?]\n",
            "Do you want to know [what your yearly income will be 5 years from now?]\n",
            "For the question about: what the Gross Domestic Product is? [How USEFUL would it be to know the answer to this question?]\n",
            "For the question about: what the Gross Domestic Product is? [How would you FEEL if you got to find out the answer?]\n",
            "For the question about: what the Gross Domestic Product is? [How OFTEN do you think about Gross Domestic Product?]\n",
            "For the question about: what your health expenses are? [How USEFUL would it be to know the answer to this question?]\n",
            "For the question about: what your health expenses are? [How would you FEEL if you got to find out the answer?]\n",
            "For the question about: what your health expenses are? [How OFTEN do you think about your health expenses?]\n",
            "For the question about: whether your credit card information has been compromised? [How USEFUL would it be to know the answer to this question?]\n",
            "For the question about: whether your credit card information has been compromised? [How would you FEEL if you got to find out the answer?]\n",
            "For the question about: whether your credit card information has been compromised? [How OFTEN do you think about your information priavcy?]\n",
            "For the question about:how your salary compares to others doing a similar job? [How USEFUL would it be to know the answer to this question?]\n",
            "For the question about:how your salary compares to others doing a similar job? [How would you FEEL if you got to find out the answer?]\n",
            "For the question about:how your salary compares to others doing a similar job? [How OFTEN do you think about salary comparison?]\n",
            "For the question about: what the gender ratio is for individuals with your job title? [How USEFUL would it be to know the answer to this question?]\n",
            "For the question about: what the gender ratio is for individuals with your job title? [How would you FEEL if you got to find out the answer?]\n",
            "For the question about: what the gender ratio is for individuals with your job title? [How OFTEN do you think about gender distribution in job?]\n",
            "For the question about: what the gender ratio is for individuals with your job title? [Please select +3]\n",
            "For the question about: how much your property is worth? [How USEFUL would it be to know the answer to this question?]\n",
            "For the question about: how much your property is worth? [How would you FEEL if you got to find out the answer?]\n",
            "For the question about: how much your property is worth? [How OFTEN do you think about your property worth?]\n",
            "For the question about: how much you will pay in travel expenses this year? [How USEFUL would it be to know the answer to this question?]\n",
            "For the question about: how much you will pay in travel expenses this year? [How would you FEEL if you got to find out the answer?]\n",
            "For the question about: how much you will pay in travel expenses this year? [How OFTEN do you think about your travel expenses?]\n",
            "For the question about: what the unemployment rate is in your country? [How USEFUL would it be to know the answer to this question?]\n",
            "For the question about: what the unemployment rate is in your country? [How would you FEEL if you got to find out the answer?]\n",
            "For the question about: what the unemployment rate is in your country? [How OFTEN do you think about unemployment rate?]\n",
            "For the question about: what you had spent on dining this year? [How USEFUL would it be to know the answer to this question?]\n",
            "For the question about: what you had spent on dining this year? [How would you FEEL if you got to find out the answer?]\n",
            "For the question about: what you had spent on dining this year? [How OFTEN do you think about dining expenses?]\n",
            "For the question about: what your yearly income will be 5 years from now? [How USEFUL would it be to know the answer to this question?]\n",
            "For the question about: what your yearly income will be 5 years from now? [How would you FEEL if you got to find out the answer?]\n",
            "For the question about: what your yearly income will be 5 years from now? [How OFTEN do you think about your future salary?]\n",
            "Would you like to know if you have a gene that increases your likelihood of: [Alzheimer’s Disease?]\n",
            "Would you like to know if you have a gene that increases your likelihood of: [A Youthful Appearance?]\n",
            "Would you like to know if you have a gene that increases your likelihood of: [Dementia?]\n",
            "Would you like to know if you have a gene that increases your likelihood of: [Diabetes?]\n",
            "Would you like to know if you have a gene that increases your likelihood of: [Good Concentration?]\n",
            "Would you like to know if you have a gene that increases your likelihood of: [Arthritis?]\n",
            "Would you like to know if you have a gene that increases your likelihood of: [Infertility?]\n",
            "Would you like to know if you have a gene that increases your likelihood of: [Clear Skin?]\n",
            "Would you like to know if you have a gene that increases your likelihood of: [Strong Immune System?]\n",
            "Would you like to know if you have a gene that increases your likelihood of: [Obesity?]\n",
            "With regard to the gene that increases the likelihood for: Alzheimer's disease [How USEFUL would it be to know whether or not you carry this gene?]\n",
            "With regard to the gene that increases the likelihood for: Alzheimer's disease [How would you FEEL if you got to find out whether or not you carry this gene?]\n",
            "With regard to the gene that increases the likelihood for: Alzheimer's disease [How OFTEN do you think about: Alzheimer's disease?]\n",
            "With regard to the gene that increases the likelihood for: A Youthful Appearance? [How USEFUL would it be to know whether or not you carry this gene?]\n",
            "With regard to the gene that increases the likelihood for: A Youthful Appearance? [How would you FEEL if you got to find out whether or not you carry this gene?]\n",
            "With regard to the gene that increases the likelihood for: A Youthful Appearance? [How OFTEN do you think about: A youthful appearance?]\n",
            "With regard to the gene that increases the likelihood for: Dementia? [How USEFUL would it be to know whether or not you carry this gene?]\n",
            "With regard to the gene that increases the likelihood for: Dementia? [How would you FEEL if you got to find out whether or not you carry this gene?]\n",
            "With regard to the gene that increases the likelihood for: Dementia? [How OFTEN do you think about: dementia?]\n",
            "With regard to the gene that increases the likelihood for: Diabetes? [How USEFUL would it be to know whether or not you carry this gene?]\n",
            "With regard to the gene that increases the likelihood for: Diabetes? [How would you FEEL if you got to find out whether or not you carry this gene?]\n",
            "With regard to the gene that increases the likelihood for: Diabetes? [How OFTEN do you think about: diabetes?]\n",
            "With regard to the gene that increases the likelihood for: Good Concentration? [How USEFUL would it be to know whether or not you carry this gene?]\n",
            "With regard to the gene that increases the likelihood for: Good Concentration? [How would you FEEL if you got to find out whether or not you carry this gene?]\n",
            "With regard to the gene that increases the likelihood for: Good Concentration? [How OFTEN do you think about: good concentration?]\n",
            "With regard to the gene that increases the likelihood for: Good Concentration? [Please select -3]\n",
            "With regard to the gene that increases the likelihood for: Arthritis? [How USEFUL would it be to know whether or not you carry this gene?]\n",
            "With regard to the gene that increases the likelihood for: Arthritis? [How would you FEEL if you got to find out whether or not you carry this gene?]\n",
            "With regard to the gene that increases the likelihood for: Arthritis? [How OFTEN do you think about: arthritis?]\n",
            "With regard to the gene that increases the likelihood for: Infertility? [How USEFUL would it be to know whether or not you carry this gene?]\n",
            "With regard to the gene that increases the likelihood for: Infertility? [How would you FEEL if you got to find out whether or not you carry this gene?]\n",
            "With regard to the gene that increases the likelihood for: Infertility? [How OFTEN do you think about: infertility?]\n",
            "With regard to the gene that increases the likelihood for: Clear Skin? [How USEFUL would it be to know whether or not you carry this gene?]\n",
            "With regard to the gene that increases the likelihood for: Clear Skin? [How would you FEEL if you got to find out whether or not you carry this gene?]\n",
            "With regard to the gene that increases the likelihood for: Clear Skin? [How OFTEN do you think about: clear skin?]\n",
            "With regard to the gene that increases the likelihood for: Strong Immune System? [How USEFUL would it be to know whether or not you carry this gene?]\n",
            "With regard to the gene that increases the likelihood for: Strong Immune System? [How would you FEEL if you got to find out whether or not you carry this gene?]\n",
            "With regard to the gene that increases the likelihood for: Strong Immune System? [How OFTEN do you think about: good immunity?]\n",
            "With regard to the gene that increases the likelihood for: Obesity? [How USEFUL would it be to know whether or not you carry this gene?]\n",
            "With regard to the gene that increases the likelihood for: Obesity? [How would you FEEL if you got to find out whether or not you carry this gene?]\n",
            "With regard to the gene that increases the likelihood for: Obesity? [How OFTEN do you think about: obesity?]\n",
            "Which of the following best describes your sex?\n",
            "How old are you (in years)?\n",
            "Which of the following best describes your orientation to this survey? (Please note we will not be able to use your data for analysis if you've answered dishonestly or unattentively)\n"
          ]
        }
      ]
    },
    {
      "cell_type": "markdown",
      "metadata": {
        "id": "V7OEpET-wQcc"
      },
      "source": [
        "x: raw data from google form"
      ]
    },
    {
      "cell_type": "code",
      "execution_count": null,
      "metadata": {
        "id": "XxJGvKl6ENkF"
      },
      "outputs": [],
      "source": [
        "n1=23\n",
        "l1=np.arange(n1)+1\n",
        "l1=list(l1)\n",
        "aic_bic_score=[[]]\n",
        "z=x.head()\n",
        "z=list(z)\n",
        "f= int(0)\n",
        "for i in z:\n",
        "  f=f+1\n",
        "  #print(f,i)"
      ]
    },
    {
      "cell_type": "markdown",
      "source": [
        "list of column names"
      ],
      "metadata": {
        "id": "f0EjyrkW6yrD"
      }
    },
    {
      "cell_type": "code",
      "source": [
        "l={\n",
        "    'y':[],'x1':[],'x2':[],'x3':[],'x4':[]\n",
        "}\n",
        "l10=pd.DataFrame(l)\n",
        "l10.to_csv('Graphical.csv', mode='a', index=False, header=True)\n",
        "k=int(0)\n",
        "k1=int(0)\n",
        "for i in range(n1):\n",
        "  k1=0\n",
        "  for j in range(len(z)):\n",
        "    if(k%4==0):\n",
        "      l['y'].append(x[z[j]][i])\n",
        "    if(k%4==1):\n",
        "      l['x1'].append(x[z[j]][i])\n",
        "    if(k%4==2):\n",
        "      l['x2'].append(x[z[j]][i])\n",
        "    if(k%4==3):\n",
        "      l['x3'].append(x[z[j]][i])\n",
        "    k=k+1\n",
        "    #print(l,k)\n",
        "    k1=k1+1\n",
        "    if(k==4):\n",
        "      l['x4'].append(int(i))\n",
        "      k=0\n",
        "      l=pd.DataFrame(l)\n",
        "      l.to_csv('Graphical.csv', mode='a', index=False, header=False)\n",
        "      l={\n",
        "        'y':[],'x1':[],'x2':[],'x3':[],'x4':[]\n",
        "      }\n",
        "    if(k1==40):\n",
        "      break"
      ],
      "metadata": {
        "id": "IJolLQHtfa5Z"
      },
      "execution_count": null,
      "outputs": []
    },
    {
      "cell_type": "markdown",
      "source": [
        "converting data in form of dependent and independent data for graphical"
      ],
      "metadata": {
        "id": "NuIy4rhX68qO"
      }
    },
    {
      "cell_type": "code",
      "source": [
        "l={\n",
        "    'y':[],'x1':[],'x2':[],'x3':[],'x4':[],'x5':[]\n",
        "}\n",
        "l10=pd.DataFrame(l)\n",
        "l10.to_csv('Self_Trait.csv', mode='a', index=False, header=True)\n",
        "k=int(0)\n",
        "for i in range(n1):\n",
        "  for j in range(41,51):\n",
        "    #print(z[j])\n",
        "    l={\n",
        "      'y':[],'x1':[],'x2':[],'x3':[],'x4':[],'x5':[]\n",
        "    }\n",
        "    l['y'].append(x[z[j]][i])\n",
        "    l['x1'].append(x[z[j+11]][i])\n",
        "    l['x2'].append(x[z[j+12]][i])\n",
        "    l['x3'].append(x[z[j+13]][i])\n",
        "    l['x5'].append(x[z[j+10]][i])\n",
        "    l['x4'].append(int(i))\n",
        "    l=pd.DataFrame(l)\n",
        "    l.to_csv('Self_Trait.csv', mode='a', index=False, header=False)\n",
        "    l={\n",
        "      'y':[],'x1':[],'x2':[],'x3':[],'x4':[],'x5':[]\n",
        "    }"
      ],
      "metadata": {
        "id": "JNjd6RKOgzHY"
      },
      "execution_count": null,
      "outputs": []
    },
    {
      "cell_type": "markdown",
      "source": [
        "converting data in form of dependent and independent data for type2 data"
      ],
      "metadata": {
        "id": "JDj9sYs27J-W"
      }
    },
    {
      "cell_type": "code",
      "source": [
        "l={\n",
        "    'y':[],'x1':[],'x2':[],'x3':[],'x4':[]\n",
        "}\n",
        "l10=pd.DataFrame(l)\n",
        "l10.to_csv('Finance.csv', mode='a', index=False, header=True)\n",
        "k=int(0)\n",
        "for i in range(n1):\n",
        "  for j in range(92,102):\n",
        "    #print(j,z[j])\n",
        "    l={\n",
        "      'y':[],'x1':[],'x2':[],'x3':[],'x4':[]\n",
        "    }\n",
        "    l['y'].append(x[z[j]][i])\n",
        "    l['x1'].append(x[z[j+10]][i])\n",
        "    l['x2'].append(x[z[j+11]][i])\n",
        "    l['x3'].append(x[z[j+12]][i])\n",
        "    #l['x5'].append(x[z[j+10]][i])\n",
        "    l['x4'].append(int(i))\n",
        "    #l['x4'].append(int(i))\n",
        "    l=pd.DataFrame(l)\n",
        "    l.to_csv('Finance.csv', mode='a', index=False, header=False)\n",
        "    l={\n",
        "      'y':[],'x1':[],'x2':[],'x3':[],'x4':[]\n",
        "    }"
      ],
      "metadata": {
        "id": "gwJ-zIbzg0ev"
      },
      "execution_count": null,
      "outputs": []
    },
    {
      "cell_type": "markdown",
      "source": [
        "converting data in form of dependent and independent data for type3 data"
      ],
      "metadata": {
        "id": "3FBUBj5y7iC9"
      }
    },
    {
      "cell_type": "code",
      "source": [
        "l={\n",
        "    'y':[],'x1':[],'x2':[],'x3':[],'x4':[]\n",
        "}\n",
        "l10=pd.DataFrame(l)\n",
        "l10.to_csv('Health.csv', mode='a', index=False, header=True)\n",
        "k=int(0)\n",
        "for i in range(n1):\n",
        "  for j in range(133,143):\n",
        "    #print(j,z[j])\n",
        "    l={\n",
        "      'y':[],'x1':[],'x2':[],'x3':[],'x4':[]\n",
        "    }\n",
        "    l['y'].append(x[z[j]][i])\n",
        "    l['x1'].append(x[z[j+10]][i])\n",
        "    l['x2'].append(x[z[j+11]][i])\n",
        "    l['x3'].append(x[z[j+12]][i])\n",
        "    #l['x5'].append(x[z[j+10]][i])\n",
        "    l['x4'].append(int(i))\n",
        "    #l['x4'].append(int(i))\n",
        "    l=pd.DataFrame(l)\n",
        "    l.to_csv('Health.csv', mode='a', index=False, header=False)\n",
        "    l={\n",
        "      'y':[],'x1':[],'x2':[],'x3':[],'x4':[]\n",
        "    }"
      ],
      "metadata": {
        "id": "_FZElsF9g4_k"
      },
      "execution_count": null,
      "outputs": []
    },
    {
      "cell_type": "markdown",
      "source": [
        "converting data in form of dependent and independent data for type4 data"
      ],
      "metadata": {
        "id": "BVyOnnu27kjd"
      }
    },
    {
      "cell_type": "markdown",
      "metadata": {
        "id": "Jm9AhBCAv5RE"
      },
      "source": [
        "pp: csv file having data of all the participants for graphical questions (14 participants 10 question each)."
      ]
    },
    {
      "cell_type": "code",
      "execution_count": null,
      "metadata": {
        "id": "6Tfffqnl2fF1"
      },
      "outputs": [],
      "source": [
        "pp1=pd.read_csv(\"/content/Graphical.csv\")\n",
        "pp2=pd.read_csv(\"/content/Self_Trait.csv\")\n",
        "pp3=pd.read_csv(\"/content/Finance.csv\")\n",
        "pp4=pd.read_csv(\"/content/Health.csv\")"
      ]
    },
    {
      "cell_type": "markdown",
      "source": [
        "final data by some changes on excel"
      ],
      "metadata": {
        "id": "miz7mhN67noL"
      }
    },
    {
      "cell_type": "markdown",
      "metadata": {
        "id": "Q8wjPfJlwX9X"
      },
      "source": [
        "grouping data of each participant\n",
        "x4: person id"
      ]
    },
    {
      "cell_type": "code",
      "execution_count": null,
      "metadata": {
        "id": "RqwOrXHoconv"
      },
      "outputs": [],
      "source": [
        "grouped_data1 = pp1.groupby(\"x4\")\n",
        "grouped_data2 = pp2.groupby(\"x4\")\n",
        "grouped_data3 = pp3.groupby(\"x4\")\n",
        "grouped_data4 = pp4.groupby(\"x4\")"
      ]
    },
    {
      "cell_type": "markdown",
      "metadata": {
        "id": "7_1UOpjOwkNJ"
      },
      "source": [
        "linear regression\n",
        "l21: coefficient of instrumental\n",
        "l22: coefficient of hedonic\n",
        "l23: coefficient of cognitive\n",
        "l24: intercept\n",
        "for graphical data"
      ]
    },
    {
      "cell_type": "code",
      "execution_count": null,
      "metadata": {
        "id": "qJLZ5KiEkHUB"
      },
      "outputs": [],
      "source": [
        "import statsmodels.api as sm\n",
        "from sklearn.model_selection import train_test_split\n",
        "from sklearn.linear_model import LinearRegression\n",
        "from sklearn import metrics\n",
        "#model=LinearRegression()\n",
        "l11=[]\n",
        "l12=[]\n",
        "l13=[]\n",
        "l14=[]\n",
        "l15=[]\n",
        "for i in range(n1):\n",
        "  pp12=grouped_data1.get_group(i)\n",
        "  y =pp12[\"y\"]\n",
        "  y=pd.DataFrame(y)\n",
        "  xx=pp12[['x1','x2','x3']]\n",
        "  model=LinearRegression()\n",
        "  model.fit(xx,y)\n",
        "  L=model.coef_\n",
        "  model1 = sm.OLS(y, xx).fit()\n",
        "  #print(model1.summary())\n",
        "  l11.append(round(model.coef_[0][0],3))\n",
        "  l12.append(round(model.coef_[0][1],3))\n",
        "  l13.append(round(model.coef_[0][2],3))\n",
        "  l14.append(round(model.intercept_[0],3))"
      ]
    },
    {
      "cell_type": "markdown",
      "source": [
        "linear regression for type2 data"
      ],
      "metadata": {
        "id": "QqAq-Moz7zdl"
      }
    },
    {
      "cell_type": "code",
      "source": [
        "l21=[]\n",
        "l22=[]\n",
        "l23=[]\n",
        "l24=[]\n",
        "for i in range(n1):\n",
        "  pp22=grouped_data2.get_group(i)\n",
        "  y =pp22[\"y\"]\n",
        "  y=pd.DataFrame(y)\n",
        "  xx=pp22[['x1','x2','x3']]\n",
        "  model=LinearRegression()\n",
        "  model.fit(xx,y)\n",
        "  L=model.coef_\n",
        "  model1 = sm.OLS(y, xx).fit()\n",
        "  #print(model1.summary())\n",
        "  l21.append(round(model.coef_[0][0],3))\n",
        "  l22.append(round(model.coef_[0][1],3))\n",
        "  l23.append(round(model.coef_[0][2],3))\n",
        "  l24.append(round(model.intercept_[0],3))"
      ],
      "metadata": {
        "id": "-yLOiu26hpj1"
      },
      "execution_count": null,
      "outputs": []
    },
    {
      "cell_type": "code",
      "source": [
        "l211=[]\n",
        "l212=[]\n",
        "for i in range(n1):\n",
        "  pp22=grouped_data2.get_group(i)\n",
        "  y =pp22[\"y\"]\n",
        "  y=pd.DataFrame(y)\n",
        "  xx=pp22[['x5']]\n",
        "  model=LinearRegression()\n",
        "  model.fit(xx,y)\n",
        "  L=model.coef_\n",
        "  model1 = sm.OLS(y, xx).fit()\n",
        "  #print(model1.summary())\n",
        "  l211.append(round(model.coef_[0][0],3))\n",
        "  #l22.append(round(model.coef_[0][1],3))\n",
        "  #l23.append(round(model.coef_[0][2],3))\n",
        "  l212.append(round(model.intercept_[0],3))"
      ],
      "metadata": {
        "id": "lbZYp32beSSq"
      },
      "execution_count": null,
      "outputs": []
    },
    {
      "cell_type": "code",
      "source": [
        "print(l211,l212)"
      ],
      "metadata": {
        "colab": {
          "base_uri": "https://localhost:8080/"
        },
        "id": "hlwx28mYfWfy",
        "outputId": "c1835c49-f06f-4bce-f077-826b2fdbb213"
      },
      "execution_count": null,
      "outputs": [
        {
          "output_type": "stream",
          "name": "stdout",
          "text": [
            "[0.172, -0.0, 0.135, 0.18, 0.506, 0.604, -0.231, 0.188, -0.0, 0.375, -0.0, -0.0, -0.099, -0.0, 0.286, -0.619, -0.036, -0.175, 0.465, -0.0, 0.118, -0.0, -0.035] [2.241, 3.0, -0.087, 0.885, 1.252, 0.44, 0.923, 0.194, -0.0, 1.375, 3.0, 3.0, 0.929, 3.0, 2.143, 1.952, 2.432, 2.157, 1.209, -1.0, 1.559, 2.0, 2.525]\n"
          ]
        }
      ]
    },
    {
      "cell_type": "markdown",
      "source": [
        "linear regression for type3 data"
      ],
      "metadata": {
        "id": "9nusLJjj75rK"
      }
    },
    {
      "cell_type": "code",
      "source": [
        "l31=[]\n",
        "l32=[]\n",
        "l33=[]\n",
        "l34=[]\n",
        "for i in range(n1):\n",
        "  pp32=grouped_data3.get_group(i)\n",
        "  y =pp32[\"y\"]\n",
        "  y=pd.DataFrame(y)\n",
        "  xx=pp32[['x1','x2','x3']]\n",
        "  model=LinearRegression()\n",
        "  model.fit(xx,y)\n",
        "  L=model.coef_\n",
        "  model1 = sm.OLS(y, xx).fit()\n",
        "  #print(model1.summary())\n",
        "  l31.append(round(model.coef_[0][0],3))\n",
        "  l32.append(round(model.coef_[0][1],3))\n",
        "  l33.append(round(model.coef_[0][2],3))\n",
        "  l34.append(round(model.intercept_[0],3))"
      ],
      "metadata": {
        "id": "93LgUCbkhpbH"
      },
      "execution_count": null,
      "outputs": []
    },
    {
      "cell_type": "markdown",
      "source": [
        "linear regression for type4 data"
      ],
      "metadata": {
        "id": "vqn-nHy9772V"
      }
    },
    {
      "cell_type": "code",
      "source": [
        "l41=[]\n",
        "l42=[]\n",
        "l43=[]\n",
        "l44=[]\n",
        "for i in range(n1):\n",
        "  pp42=grouped_data4.get_group(i)\n",
        "  y =pp42[\"y\"]\n",
        "  y=pd.DataFrame(y)\n",
        "  xx=pp42[['x1','x2','x3']]\n",
        "  model=LinearRegression()\n",
        "  model.fit(xx,y)\n",
        "  L=model.coef_\n",
        "  model1 = sm.OLS(y, xx).fit()\n",
        "  aic_bic_score.append([model1.aic,model1.bic])\n",
        "  #print(model1.summary())\n",
        "  l41.append(round(model.coef_[0][0],3))\n",
        "  l42.append(round(model.coef_[0][1],3))\n",
        "  l43.append(round(model.coef_[0][2],3))\n",
        "  l44.append(round(model.intercept_[0],3))"
      ],
      "metadata": {
        "id": "Pde-VYhThpRb"
      },
      "execution_count": null,
      "outputs": []
    },
    {
      "cell_type": "markdown",
      "metadata": {
        "id": "LiNA-VbCw7uW"
      },
      "source": [
        "graph for all the three utilities of each participant.\n",
        "Pi: person i"
      ]
    },
    {
      "cell_type": "markdown",
      "source": [
        "graph for graphical data"
      ],
      "metadata": {
        "id": "OM2G1waW7_L6"
      }
    },
    {
      "cell_type": "code",
      "execution_count": null,
      "metadata": {
        "colab": {
          "base_uri": "https://localhost:8080/",
          "height": 353
        },
        "id": "T00IVAdLmY3e",
        "outputId": "3357aded-5126-47d7-9684-d39252302a7f"
      },
      "outputs": [
        {
          "output_type": "execute_result",
          "data": {
            "text/plain": [
              "<matplotlib.legend.Legend at 0x7fa4c8936490>"
            ]
          },
          "metadata": {},
          "execution_count": 420
        },
        {
          "output_type": "display_data",
          "data": {
            "text/plain": [
              "<Figure size 720x360 with 1 Axes>"
            ],
            "image/png": "[encoded data removed]"
          },
          "metadata": {
            "needs_background": "light"
          }
        }
      ],
      "source": [
        "import matplotlib.pyplot as plt\n",
        "import matplotlib.pyplot as plt\n",
        "%matplotlib inline\n",
        "l3=np.arange(len(l1))\n",
        "plt1=plt.figure(figsize=(10, 5))\n",
        "plt.title(\"Graphical 3C3 coefficients\")\n",
        "plt.xticks(l3,l1)\n",
        "plt.bar(l3-0.2,l11,width=0.2,label=\"instrumental\")\n",
        "plt.bar(l3,l12,width=0.2,label=\"hedonic\")\n",
        "plt.bar(l3+0.2,l13,width=0.2,label=\"cognitive\")\n",
        "plt.legend()\n",
        "# print (l12)"
      ]
    },
    {
      "cell_type": "code",
      "source": [
        "l11"
      ],
      "metadata": {
        "colab": {
          "base_uri": "https://localhost:8080/"
        },
        "id": "jHdHcqsNXEjz",
        "outputId": "dac8fa3b-0824-4d06-ee30-db8e1402f611"
      },
      "execution_count": null,
      "outputs": [
        {
          "output_type": "execute_result",
          "data": {
            "text/plain": [
              "[-0.819,\n",
              " -0.422,\n",
              " -1.045,\n",
              " -0.844,\n",
              " 0.234,\n",
              " -0.507,\n",
              " -0.903,\n",
              " -0.716,\n",
              " -0.846,\n",
              " -1.328,\n",
              " -0.492,\n",
              " -1.84,\n",
              " -0.749,\n",
              " -0.546,\n",
              " -0.957,\n",
              " -1.286,\n",
              " -1.276,\n",
              " -1.392,\n",
              " -0.874,\n",
              " -0.276,\n",
              " -0.654,\n",
              " -0.932,\n",
              " -0.466]"
            ]
          },
          "metadata": {},
          "execution_count": 421
        }
      ]
    },
    {
      "cell_type": "markdown",
      "source": [
        "graph for type 2 data"
      ],
      "metadata": {
        "id": "7HPp53j88Dv5"
      }
    },
    {
      "cell_type": "code",
      "source": [
        "import matplotlib.pyplot as plt\n",
        "import matplotlib.pyplot as plt\n",
        "%matplotlib inline\n",
        "l3=np.arange(len(l1))\n",
        "plt1=plt.figure(figsize=(10, 5))\n",
        "plt.title(\"Self Trait 3C3 coefficients\")\n",
        "plt.xticks(l3,l1)\n",
        "plt.bar(l3-0.2,l21,width=0.2,label=\"instrumental\")\n",
        "plt.bar(l3,l22,width=0.2,label=\"hedonic\")\n",
        "plt.bar(l3+0.2,l23,width=0.2,label=\"cognitive\")\n",
        "plt.legend()\n"
      ],
      "metadata": {
        "colab": {
          "base_uri": "https://localhost:8080/",
          "height": 353
        },
        "id": "--cqP20hkVBA",
        "outputId": "c89b3cbf-3a80-417b-8e3a-91cf8bf7a3a0"
      },
      "execution_count": null,
      "outputs": [
        {
          "output_type": "execute_result",
          "data": {
            "text/plain": [
              "<matplotlib.legend.Legend at 0x7fa4c98039d0>"
            ]
          },
          "metadata": {},
          "execution_count": 422
        },
        {
          "output_type": "display_data",
          "data": {
            "text/plain": [
              "<Figure size 720x360 with 1 Axes>"
            ],
            "image/png": "[encoded data removed]"
          },
          "metadata": {
            "needs_background": "light"
          }
        }
      ]
    },
    {
      "cell_type": "markdown",
      "source": [
        "graph for type 3 data"
      ],
      "metadata": {
        "id": "I5OQO_gu8HKZ"
      }
    },
    {
      "cell_type": "code",
      "source": [
        "import matplotlib.pyplot as plt\n",
        "import matplotlib.pyplot as plt\n",
        "%matplotlib inline\n",
        "l3=np.arange(len(l1))\n",
        "plt1=plt.figure(figsize=(10, 5))\n",
        "plt.title(\"Finance 3C3 coefficients\")\n",
        "plt.xticks(l3,l1)\n",
        "plt.bar(l3-0.2,l31,width=0.2,label=\"instrumental\")\n",
        "plt.bar(l3,l32,width=0.2,label=\"hedonic\")\n",
        "plt.bar(l3+0.2,l33,width=0.2,label=\"cognitive\")\n",
        "plt.legend()\n"
      ],
      "metadata": {
        "colab": {
          "base_uri": "https://localhost:8080/",
          "height": 353
        },
        "id": "XKGyKNDwkU4g",
        "outputId": "b58aa5bb-3a1d-42e9-ea03-96b1bc673cd4"
      },
      "execution_count": null,
      "outputs": [
        {
          "output_type": "execute_result",
          "data": {
            "text/plain": [
              "<matplotlib.legend.Legend at 0x7fa4c8237550>"
            ]
          },
          "metadata": {},
          "execution_count": 423
        },
        {
          "output_type": "display_data",
          "data": {
            "text/plain": [
              "<Figure size 720x360 with 1 Axes>"
            ],
            "image/png": "[encoded data removed]"
          },
          "metadata": {
            "needs_background": "light"
          }
        }
      ]
    },
    {
      "cell_type": "markdown",
      "source": [
        "graph for type 4 data"
      ],
      "metadata": {
        "id": "LCmNCTDB8JSN"
      }
    },
    {
      "cell_type": "code",
      "source": [
        "import matplotlib.pyplot as plt\n",
        "import matplotlib.pyplot as plt\n",
        "%matplotlib inline\n",
        "l3=np.arange(len(l1))\n",
        "plt1=plt.figure(figsize=(10, 5))\n",
        "plt.title(\"Health 3C3 coefficients\")\n",
        "plt.xticks(l3,l1)\n",
        "plt.bar(l3-0.2,l41,width=0.2,label=\"instrumental\")\n",
        "plt.bar(l3,l42,width=0.2,label=\"hedonic\")\n",
        "plt.bar(l3+0.2,l43,width=0.2,label=\"cognitive\")\n",
        "plt.legend()\n"
      ],
      "metadata": {
        "colab": {
          "base_uri": "https://localhost:8080/",
          "height": 353
        },
        "id": "q5jWKNzQkUua",
        "outputId": "c1c796a5-e3c6-410b-ae6b-0c536a9a40da"
      },
      "execution_count": null,
      "outputs": [
        {
          "output_type": "execute_result",
          "data": {
            "text/plain": [
              "<matplotlib.legend.Legend at 0x7fa4c75f3a90>"
            ]
          },
          "metadata": {},
          "execution_count": 424
        },
        {
          "output_type": "display_data",
          "data": {
            "text/plain": [
              "<Figure size 720x360 with 1 Axes>"
            ],
            "image/png": "[encoded data removed]"
          },
          "metadata": {
            "needs_background": "light"
          }
        }
      ]
    },
    {
      "cell_type": "code",
      "source": [
        "l12"
      ],
      "metadata": {
        "colab": {
          "base_uri": "https://localhost:8080/"
        },
        "id": "Ko42vfIoXXkg",
        "outputId": "52b055f9-fc6c-40aa-eaa8-2ef0caff7b7b"
      },
      "execution_count": null,
      "outputs": [
        {
          "output_type": "execute_result",
          "data": {
            "text/plain": [
              "[0.494,\n",
              " 0.622,\n",
              " -0.578,\n",
              " 0.148,\n",
              " 0.315,\n",
              " 0.475,\n",
              " 1.67,\n",
              " 0.079,\n",
              " 0.235,\n",
              " 0.643,\n",
              " 0.908,\n",
              " -2.153,\n",
              " -0.261,\n",
              " -0.059,\n",
              " -0.289,\n",
              " 0.582,\n",
              " 1.544,\n",
              " 0.363,\n",
              " 0.226,\n",
              " 1.53,\n",
              " 0.594,\n",
              " 1.568,\n",
              " 0.976]"
            ]
          },
          "metadata": {},
          "execution_count": 425
        }
      ]
    },
    {
      "cell_type": "code",
      "execution_count": null,
      "metadata": {
        "id": "SrNvNeakEWcN"
      },
      "outputs": [],
      "source": [
        "\n",
        "df1={'instrumental':[],'hedonic':[],'cognitive':[]}\n",
        "df2={'instrumental':[],'hedonic':[],'cognitive':[]}\n",
        "df3={'instrumental':[],'hedonic':[],'cognitive':[]}\n",
        "df4={'instrumental':[],'hedonic':[],'cognitive':[]}"
      ]
    },
    {
      "cell_type": "code",
      "execution_count": null,
      "metadata": {
        "id": "v7DxjVvYH-uF"
      },
      "outputs": [],
      "source": [
        "\n",
        "df1['instrumental']=l11\n",
        "df1['hedonic']=l12\n",
        "df1['cognitive']=l13\n",
        "df2['instrumental']=l21\n",
        "df2['hedonic']=l22\n",
        "df2['cognitive']=l23\n",
        "df3['instrumental']=l31\n",
        "df3['hedonic']=l32\n",
        "df3['cognitive']=l33\n",
        "df4['instrumental']=l41\n",
        "df4['hedonic']=l42\n",
        "df4['cognitive']=l43"
      ]
    },
    {
      "cell_type": "code",
      "execution_count": null,
      "metadata": {
        "id": "lvCFA2vJIozs"
      },
      "outputs": [],
      "source": [
        "df1=pd.DataFrame(df1)\n",
        "df2=pd.DataFrame(df2)\n",
        "df3=pd.DataFrame(df3)\n",
        "df4=pd.DataFrame(df4)"
      ]
    },
    {
      "cell_type": "code",
      "execution_count": null,
      "metadata": {
        "colab": {
          "base_uri": "https://localhost:8080/",
          "height": 771
        },
        "id": "GNcuEHy-Ircq",
        "outputId": "d919fde0-7e41-44cb-faba-9e0fbcf98599"
      },
      "outputs": [
        {
          "output_type": "execute_result",
          "data": {
            "text/plain": [
              "    instrumental  hedonic  cognitive\n",
              "0         -0.819    0.494     -0.094\n",
              "1         -0.422    0.622     -0.965\n",
              "2         -1.045   -0.578      1.402\n",
              "3         -0.844    0.148      0.444\n",
              "4          0.234    0.315     -1.365\n",
              "5         -0.507    0.475      0.066\n",
              "6         -0.903    1.670     -0.330\n",
              "7         -0.716    0.079      0.106\n",
              "8         -0.846    0.235      0.578\n",
              "9         -1.328    0.643      0.347\n",
              "10        -0.492    0.908     -0.437\n",
              "11        -1.840   -2.153      3.247\n",
              "12        -0.749   -0.261      1.587\n",
              "13        -0.546   -0.059      0.453\n",
              "14        -0.957   -0.289     -0.057\n",
              "15        -1.286    0.582      0.785\n",
              "16        -1.276    1.544     -1.105\n",
              "17        -1.392    0.363      0.821\n",
              "18        -0.874    0.226      0.604\n",
              "19        -0.276    1.530     -1.706\n",
              "20        -0.654    0.594      0.401\n",
              "21        -0.932    1.568      0.136\n",
              "22        -0.466    0.976      0.362"
            ],
            "text/html": [
              "\n",
              "  <div id=\"df-32f3c221-5a4a-4b68-99b9-8a986cf2ca94\">\n",
              "    <div class=\"colab-df-container\">\n",
              "      <div>\n",
              "<style scoped>\n",
              "    .dataframe tbody tr th:only-of-type {\n",
              "        vertical-align: middle;\n",
              "    }\n",
              "\n",
              "    .dataframe tbody tr th {\n",
              "        vertical-align: top;\n",
              "    }\n",
              "\n",
              "    .dataframe thead th {\n",
              "        text-align: right;\n",
              "    }\n",
              "</style>\n",
              "<table border=\"1\" class=\"dataframe\">\n",
              "  <thead>\n",
              "    <tr style=\"text-align: right;\">\n",
              "      <th></th>\n",
              "      <th>instrumental</th>\n",
              "      <th>hedonic</th>\n",
              "      <th>cognitive</th>\n",
              "    </tr>\n",
              "  </thead>\n",
              "  <tbody>\n",
              "    <tr>\n",
              "      <th>0</th>\n",
              "      <td>-0.819</td>\n",
              "      <td>0.494</td>\n",
              "      <td>-0.094</td>\n",
              "    </tr>\n",
              "    <tr>\n",
              "      <th>1</th>\n",
              "      <td>-0.422</td>\n",
              "      <td>0.622</td>\n",
              "      <td>-0.965</td>\n",
              "    </tr>\n",
              "    <tr>\n",
              "      <th>2</th>\n",
              "      <td>-1.045</td>\n",
              "      <td>-0.578</td>\n",
              "      <td>1.402</td>\n",
              "    </tr>\n",
              "    <tr>\n",
              "      <th>3</th>\n",
              "      <td>-0.844</td>\n",
              "      <td>0.148</td>\n",
              "      <td>0.444</td>\n",
              "    </tr>\n",
              "    <tr>\n",
              "      <th>4</th>\n",
              "      <td>0.234</td>\n",
              "      <td>0.315</td>\n",
              "      <td>-1.365</td>\n",
              "    </tr>\n",
              "    <tr>\n",
              "      <th>5</th>\n",
              "      <td>-0.507</td>\n",
              "      <td>0.475</td>\n",
              "      <td>0.066</td>\n",
              "    </tr>\n",
              "    <tr>\n",
              "      <th>6</th>\n",
              "      <td>-0.903</td>\n",
              "      <td>1.670</td>\n",
              "      <td>-0.330</td>\n",
              "    </tr>\n",
              "    <tr>\n",
              "      <th>7</th>\n",
              "      <td>-0.716</td>\n",
              "      <td>0.079</td>\n",
              "      <td>0.106</td>\n",
              "    </tr>\n",
              "    <tr>\n",
              "      <th>8</th>\n",
              "      <td>-0.846</td>\n",
              "      <td>0.235</td>\n",
              "      <td>0.578</td>\n",
              "    </tr>\n",
              "    <tr>\n",
              "      <th>9</th>\n",
              "      <td>-1.328</td>\n",
              "      <td>0.643</td>\n",
              "      <td>0.347</td>\n",
              "    </tr>\n",
              "    <tr>\n",
              "      <th>10</th>\n",
              "      <td>-0.492</td>\n",
              "      <td>0.908</td>\n",
              "      <td>-0.437</td>\n",
              "    </tr>\n",
              "    <tr>\n",
              "      <th>11</th>\n",
              "      <td>-1.840</td>\n",
              "      <td>-2.153</td>\n",
              "      <td>3.247</td>\n",
              "    </tr>\n",
              "    <tr>\n",
              "      <th>12</th>\n",
              "      <td>-0.749</td>\n",
              "      <td>-0.261</td>\n",
              "      <td>1.587</td>\n",
              "    </tr>\n",
              "    <tr>\n",
              "      <th>13</th>\n",
              "      <td>-0.546</td>\n",
              "      <td>-0.059</td>\n",
              "      <td>0.453</td>\n",
              "    </tr>\n",
              "    <tr>\n",
              "      <th>14</th>\n",
              "      <td>-0.957</td>\n",
              "      <td>-0.289</td>\n",
              "      <td>-0.057</td>\n",
              "    </tr>\n",
              "    <tr>\n",
              "      <th>15</th>\n",
              "      <td>-1.286</td>\n",
              "      <td>0.582</td>\n",
              "      <td>0.785</td>\n",
              "    </tr>\n",
              "    <tr>\n",
              "      <th>16</th>\n",
              "      <td>-1.276</td>\n",
              "      <td>1.544</td>\n",
              "      <td>-1.105</td>\n",
              "    </tr>\n",
              "    <tr>\n",
              "      <th>17</th>\n",
              "      <td>-1.392</td>\n",
              "      <td>0.363</td>\n",
              "      <td>0.821</td>\n",
              "    </tr>\n",
              "    <tr>\n",
              "      <th>18</th>\n",
              "      <td>-0.874</td>\n",
              "      <td>0.226</td>\n",
              "      <td>0.604</td>\n",
              "    </tr>\n",
              "    <tr>\n",
              "      <th>19</th>\n",
              "      <td>-0.276</td>\n",
              "      <td>1.530</td>\n",
              "      <td>-1.706</td>\n",
              "    </tr>\n",
              "    <tr>\n",
              "      <th>20</th>\n",
              "      <td>-0.654</td>\n",
              "      <td>0.594</td>\n",
              "      <td>0.401</td>\n",
              "    </tr>\n",
              "    <tr>\n",
              "      <th>21</th>\n",
              "      <td>-0.932</td>\n",
              "      <td>1.568</td>\n",
              "      <td>0.136</td>\n",
              "    </tr>\n",
              "    <tr>\n",
              "      <th>22</th>\n",
              "      <td>-0.466</td>\n",
              "      <td>0.976</td>\n",
              "      <td>0.362</td>\n",
              "    </tr>\n",
              "  </tbody>\n",
              "</table>\n",
              "</div>\n",
              "      <button class=\"colab-df-convert\" onclick=\"convertToInteractive('df-32f3c221-5a4a-4b68-99b9-8a986cf2ca94')\"\n",
              "              title=\"Convert this dataframe to an interactive table.\"\n",
              "              style=\"display:none;\">\n",
              "        \n",
              "  <svg xmlns=\"http://www.w3.org/2000/svg\" height=\"24px\"viewBox=\"0 0 24 24\"\n",
              "       width=\"24px\">\n",
              "    <path d=\"M0 0h24v24H0V0z\" fill=\"none\"/>\n",
              "    <path d=\"M18.56 5.44l.94 2.06.94-2.06 2.06-.94-2.06-.94-.94-2.06-.94 2.06-2.06.94zm-11 1L8.5 8.5l.94-2.06 2.06-.94-2.06-.94L8.5 2.5l-.94 2.06-2.06.94zm10 10l.94 2.06.94-2.06 2.06-.94-2.06-.94-.94-2.06-.94 2.06-2.06.94z\"/><path d=\"M17.41 7.96l-1.37-1.37c-.4-.4-.92-.59-1.43-.59-.52 0-1.04.2-1.43.59L10.3 9.45l-7.72 7.72c-.78.78-.78 2.05 0 2.83L4 21.41c.39.39.9.59 1.41.59.51 0 1.02-.2 1.41-.59l7.78-7.78 2.81-2.81c.8-.78.8-2.07 0-2.86zM5.41 20L4 18.59l7.72-7.72 1.47 1.35L5.41 20z\"/>\n",
              "  </svg>\n",
              "      </button>\n",
              "      \n",
              "  <style>\n",
              "    .colab-df-container {\n",
              "      display:flex;\n",
              "      flex-wrap:wrap;\n",
              "      gap: 12px;\n",
              "    }\n",
              "\n",
              "    .colab-df-convert {\n",
              "      background-color: #E8F0FE;\n",
              "      border: none;\n",
              "      border-radius: 50%;\n",
              "      cursor: pointer;\n",
              "      display: none;\n",
              "      fill: #1967D2;\n",
              "      height: 32px;\n",
              "      padding: 0 0 0 0;\n",
              "      width: 32px;\n",
              "    }\n",
              "\n",
              "    .colab-df-convert:hover {\n",
              "      background-color: #E2EBFA;\n",
              "      box-shadow: 0px 1px 2px rgba(60, 64, 67, 0.3), 0px 1px 3px 1px rgba(60, 64, 67, 0.15);\n",
              "      fill: #174EA6;\n",
              "    }\n",
              "\n",
              "    [theme=dark] .colab-df-convert {\n",
              "      background-color: #3B4455;\n",
              "      fill: #D2E3FC;\n",
              "    }\n",
              "\n",
              "    [theme=dark] .colab-df-convert:hover {\n",
              "      background-color: #434B5C;\n",
              "      box-shadow: 0px 1px 3px 1px rgba(0, 0, 0, 0.15);\n",
              "      filter: drop-shadow(0px 1px 2px rgba(0, 0, 0, 0.3));\n",
              "      fill: #FFFFFF;\n",
              "    }\n",
              "  </style>\n",
              "\n",
              "      <script>\n",
              "        const buttonEl =\n",
              "          document.querySelector('#df-32f3c221-5a4a-4b68-99b9-8a986cf2ca94 button.colab-df-convert');\n",
              "        buttonEl.style.display =\n",
              "          google.colab.kernel.accessAllowed ? 'block' : 'none';\n",
              "\n",
              "        async function convertToInteractive(key) {\n",
              "          const element = document.querySelector('#df-32f3c221-5a4a-4b68-99b9-8a986cf2ca94');\n",
              "          const dataTable =\n",
              "            await google.colab.kernel.invokeFunction('convertToInteractive',\n",
              "                                                     [key], {});\n",
              "          if (!dataTable) return;\n",
              "\n",
              "          const docLinkHtml = 'Like what you see? Visit the ' +\n",
              "            '<a target=\"_blank\" href=https://colab.research.google.com/notebooks/data_table.ipynb>data table notebook</a>'\n",
              "            + ' to learn more about interactive tables.';\n",
              "          element.innerHTML = '';\n",
              "          dataTable['output_type'] = 'display_data';\n",
              "          await google.colab.output.renderOutput(dataTable, element);\n",
              "          const docLink = document.createElement('div');\n",
              "          docLink.innerHTML = docLinkHtml;\n",
              "          element.appendChild(docLink);\n",
              "        }\n",
              "      </script>\n",
              "    </div>\n",
              "  </div>\n",
              "  "
            ]
          },
          "metadata": {},
          "execution_count": 429
        }
      ],
      "source": [
        "df1"
      ]
    },
    {
      "cell_type": "code",
      "execution_count": null,
      "metadata": {
        "colab": {
          "base_uri": "https://localhost:8080/",
          "height": 771
        },
        "id": "6WzGzwPnIr0H",
        "outputId": "2a88fb2b-9d8e-479f-b3df-66344bb047f6"
      },
      "outputs": [
        {
          "output_type": "execute_result",
          "data": {
            "text/plain": [
              "    instrumental  hedonic  cognitive\n",
              "0          0.034   -0.317      0.058\n",
              "1          0.000    0.000      0.000\n",
              "2          0.232   -0.769     -0.096\n",
              "3          1.028   -0.161      0.041\n",
              "4         -0.125   -0.079     -0.034\n",
              "5          0.659    0.144     -0.586\n",
              "6          0.054   -0.537     -0.472\n",
              "7          0.914   -0.134     -0.163\n",
              "8          1.000   -0.333     -1.000\n",
              "9         -0.099    0.932     -0.918\n",
              "10         0.000    0.000      0.000\n",
              "11         0.000    0.000      0.000\n",
              "12         0.052    0.914     -0.259\n",
              "13         0.000    0.000      0.000\n",
              "14        -0.175   -0.041     -0.217\n",
              "15         0.340   -0.250     -0.915\n",
              "16         0.005    0.214     -0.034\n",
              "17        -0.166    0.650     -0.351\n",
              "18         0.043    0.442     -0.428\n",
              "19         0.000    0.000      0.000\n",
              "20         0.411   -0.050      0.203\n",
              "21         0.000    0.000      0.000\n",
              "22        -0.246   -0.038      0.292"
            ],
            "text/html": [
              "\n",
              "  <div id=\"df-db05b497-27a7-4a5b-a786-32bf38a31211\">\n",
              "    <div class=\"colab-df-container\">\n",
              "      <div>\n",
              "<style scoped>\n",
              "    .dataframe tbody tr th:only-of-type {\n",
              "        vertical-align: middle;\n",
              "    }\n",
              "\n",
              "    .dataframe tbody tr th {\n",
              "        vertical-align: top;\n",
              "    }\n",
              "\n",
              "    .dataframe thead th {\n",
              "        text-align: right;\n",
              "    }\n",
              "</style>\n",
              "<table border=\"1\" class=\"dataframe\">\n",
              "  <thead>\n",
              "    <tr style=\"text-align: right;\">\n",
              "      <th></th>\n",
              "      <th>instrumental</th>\n",
              "      <th>hedonic</th>\n",
              "      <th>cognitive</th>\n",
              "    </tr>\n",
              "  </thead>\n",
              "  <tbody>\n",
              "    <tr>\n",
              "      <th>0</th>\n",
              "      <td>0.034</td>\n",
              "      <td>-0.317</td>\n",
              "      <td>0.058</td>\n",
              "    </tr>\n",
              "    <tr>\n",
              "      <th>1</th>\n",
              "      <td>0.000</td>\n",
              "      <td>0.000</td>\n",
              "      <td>0.000</td>\n",
              "    </tr>\n",
              "    <tr>\n",
              "      <th>2</th>\n",
              "      <td>0.232</td>\n",
              "      <td>-0.769</td>\n",
              "      <td>-0.096</td>\n",
              "    </tr>\n",
              "    <tr>\n",
              "      <th>3</th>\n",
              "      <td>1.028</td>\n",
              "      <td>-0.161</td>\n",
              "      <td>0.041</td>\n",
              "    </tr>\n",
              "    <tr>\n",
              "      <th>4</th>\n",
              "      <td>-0.125</td>\n",
              "      <td>-0.079</td>\n",
              "      <td>-0.034</td>\n",
              "    </tr>\n",
              "    <tr>\n",
              "      <th>5</th>\n",
              "      <td>0.659</td>\n",
              "      <td>0.144</td>\n",
              "      <td>-0.586</td>\n",
              "    </tr>\n",
              "    <tr>\n",
              "      <th>6</th>\n",
              "      <td>0.054</td>\n",
              "      <td>-0.537</td>\n",
              "      <td>-0.472</td>\n",
              "    </tr>\n",
              "    <tr>\n",
              "      <th>7</th>\n",
              "      <td>0.914</td>\n",
              "      <td>-0.134</td>\n",
              "      <td>-0.163</td>\n",
              "    </tr>\n",
              "    <tr>\n",
              "      <th>8</th>\n",
              "      <td>1.000</td>\n",
              "      <td>-0.333</td>\n",
              "      <td>-1.000</td>\n",
              "    </tr>\n",
              "    <tr>\n",
              "      <th>9</th>\n",
              "      <td>-0.099</td>\n",
              "      <td>0.932</td>\n",
              "      <td>-0.918</td>\n",
              "    </tr>\n",
              "    <tr>\n",
              "      <th>10</th>\n",
              "      <td>0.000</td>\n",
              "      <td>0.000</td>\n",
              "      <td>0.000</td>\n",
              "    </tr>\n",
              "    <tr>\n",
              "      <th>11</th>\n",
              "      <td>0.000</td>\n",
              "      <td>0.000</td>\n",
              "      <td>0.000</td>\n",
              "    </tr>\n",
              "    <tr>\n",
              "      <th>12</th>\n",
              "      <td>0.052</td>\n",
              "      <td>0.914</td>\n",
              "      <td>-0.259</td>\n",
              "    </tr>\n",
              "    <tr>\n",
              "      <th>13</th>\n",
              "      <td>0.000</td>\n",
              "      <td>0.000</td>\n",
              "      <td>0.000</td>\n",
              "    </tr>\n",
              "    <tr>\n",
              "      <th>14</th>\n",
              "      <td>-0.175</td>\n",
              "      <td>-0.041</td>\n",
              "      <td>-0.217</td>\n",
              "    </tr>\n",
              "    <tr>\n",
              "      <th>15</th>\n",
              "      <td>0.340</td>\n",
              "      <td>-0.250</td>\n",
              "      <td>-0.915</td>\n",
              "    </tr>\n",
              "    <tr>\n",
              "      <th>16</th>\n",
              "      <td>0.005</td>\n",
              "      <td>0.214</td>\n",
              "      <td>-0.034</td>\n",
              "    </tr>\n",
              "    <tr>\n",
              "      <th>17</th>\n",
              "      <td>-0.166</td>\n",
              "      <td>0.650</td>\n",
              "      <td>-0.351</td>\n",
              "    </tr>\n",
              "    <tr>\n",
              "      <th>18</th>\n",
              "      <td>0.043</td>\n",
              "      <td>0.442</td>\n",
              "      <td>-0.428</td>\n",
              "    </tr>\n",
              "    <tr>\n",
              "      <th>19</th>\n",
              "      <td>0.000</td>\n",
              "      <td>0.000</td>\n",
              "      <td>0.000</td>\n",
              "    </tr>\n",
              "    <tr>\n",
              "      <th>20</th>\n",
              "      <td>0.411</td>\n",
              "      <td>-0.050</td>\n",
              "      <td>0.203</td>\n",
              "    </tr>\n",
              "    <tr>\n",
              "      <th>21</th>\n",
              "      <td>0.000</td>\n",
              "      <td>0.000</td>\n",
              "      <td>0.000</td>\n",
              "    </tr>\n",
              "    <tr>\n",
              "      <th>22</th>\n",
              "      <td>-0.246</td>\n",
              "      <td>-0.038</td>\n",
              "      <td>0.292</td>\n",
              "    </tr>\n",
              "  </tbody>\n",
              "</table>\n",
              "</div>\n",
              "      <button class=\"colab-df-convert\" onclick=\"convertToInteractive('df-db05b497-27a7-4a5b-a786-32bf38a31211')\"\n",
              "              title=\"Convert this dataframe to an interactive table.\"\n",
              "              style=\"display:none;\">\n",
              "        \n",
              "  <svg xmlns=\"http://www.w3.org/2000/svg\" height=\"24px\"viewBox=\"0 0 24 24\"\n",
              "       width=\"24px\">\n",
              "    <path d=\"M0 0h24v24H0V0z\" fill=\"none\"/>\n",
              "    <path d=\"M18.56 5.44l.94 2.06.94-2.06 2.06-.94-2.06-.94-.94-2.06-.94 2.06-2.06.94zm-11 1L8.5 8.5l.94-2.06 2.06-.94-2.06-.94L8.5 2.5l-.94 2.06-2.06.94zm10 10l.94 2.06.94-2.06 2.06-.94-2.06-.94-.94-2.06-.94 2.06-2.06.94z\"/><path d=\"M17.41 7.96l-1.37-1.37c-.4-.4-.92-.59-1.43-.59-.52 0-1.04.2-1.43.59L10.3 9.45l-7.72 7.72c-.78.78-.78 2.05 0 2.83L4 21.41c.39.39.9.59 1.41.59.51 0 1.02-.2 1.41-.59l7.78-7.78 2.81-2.81c.8-.78.8-2.07 0-2.86zM5.41 20L4 18.59l7.72-7.72 1.47 1.35L5.41 20z\"/>\n",
              "  </svg>\n",
              "      </button>\n",
              "      \n",
              "  <style>\n",
              "    .colab-df-container {\n",
              "      display:flex;\n",
              "      flex-wrap:wrap;\n",
              "      gap: 12px;\n",
              "    }\n",
              "\n",
              "    .colab-df-convert {\n",
              "      background-color: #E8F0FE;\n",
              "      border: none;\n",
              "      border-radius: 50%;\n",
              "      cursor: pointer;\n",
              "      display: none;\n",
              "      fill: #1967D2;\n",
              "      height: 32px;\n",
              "      padding: 0 0 0 0;\n",
              "      width: 32px;\n",
              "    }\n",
              "\n",
              "    .colab-df-convert:hover {\n",
              "      background-color: #E2EBFA;\n",
              "      box-shadow: 0px 1px 2px rgba(60, 64, 67, 0.3), 0px 1px 3px 1px rgba(60, 64, 67, 0.15);\n",
              "      fill: #174EA6;\n",
              "    }\n",
              "\n",
              "    [theme=dark] .colab-df-convert {\n",
              "      background-color: #3B4455;\n",
              "      fill: #D2E3FC;\n",
              "    }\n",
              "\n",
              "    [theme=dark] .colab-df-convert:hover {\n",
              "      background-color: #434B5C;\n",
              "      box-shadow: 0px 1px 3px 1px rgba(0, 0, 0, 0.15);\n",
              "      filter: drop-shadow(0px 1px 2px rgba(0, 0, 0, 0.3));\n",
              "      fill: #FFFFFF;\n",
              "    }\n",
              "  </style>\n",
              "\n",
              "      <script>\n",
              "        const buttonEl =\n",
              "          document.querySelector('#df-db05b497-27a7-4a5b-a786-32bf38a31211 button.colab-df-convert');\n",
              "        buttonEl.style.display =\n",
              "          google.colab.kernel.accessAllowed ? 'block' : 'none';\n",
              "\n",
              "        async function convertToInteractive(key) {\n",
              "          const element = document.querySelector('#df-db05b497-27a7-4a5b-a786-32bf38a31211');\n",
              "          const dataTable =\n",
              "            await google.colab.kernel.invokeFunction('convertToInteractive',\n",
              "                                                     [key], {});\n",
              "          if (!dataTable) return;\n",
              "\n",
              "          const docLinkHtml = 'Like what you see? Visit the ' +\n",
              "            '<a target=\"_blank\" href=https://colab.research.google.com/notebooks/data_table.ipynb>data table notebook</a>'\n",
              "            + ' to learn more about interactive tables.';\n",
              "          element.innerHTML = '';\n",
              "          dataTable['output_type'] = 'display_data';\n",
              "          await google.colab.output.renderOutput(dataTable, element);\n",
              "          const docLink = document.createElement('div');\n",
              "          docLink.innerHTML = docLinkHtml;\n",
              "          element.appendChild(docLink);\n",
              "        }\n",
              "      </script>\n",
              "    </div>\n",
              "  </div>\n",
              "  "
            ]
          },
          "metadata": {},
          "execution_count": 430
        }
      ],
      "source": [
        "df2"
      ]
    },
    {
      "cell_type": "code",
      "execution_count": null,
      "metadata": {
        "id": "mnj6LDdPjomf",
        "colab": {
          "base_uri": "https://localhost:8080/",
          "height": 771
        },
        "outputId": "0a921006-efcc-4013-cfd9-cf33868ae389"
      },
      "outputs": [
        {
          "output_type": "execute_result",
          "data": {
            "text/plain": [
              "    instrumental  hedonic  cognitive\n",
              "0         -0.594    0.804      0.072\n",
              "1          0.000    0.000      0.000\n",
              "2         -0.142   -1.255      1.078\n",
              "3          0.292    0.133      0.494\n",
              "4         -0.096   -0.089      0.039\n",
              "5          0.175   -0.150     -0.241\n",
              "6         -0.508    0.275     -0.226\n",
              "7          0.143   -0.000      0.357\n",
              "8          0.459    0.802      0.251\n",
              "9          0.173    0.232      0.462\n",
              "10        -0.124    0.209      0.178\n",
              "11         0.000    0.000      0.000\n",
              "12        -0.532   -0.966      0.325\n",
              "13         0.000    0.000      0.000\n",
              "14        -0.082    0.083      0.183\n",
              "15         0.077    0.594     -0.006\n",
              "16        -0.614   -0.190      1.608\n",
              "17         0.316    0.018     -0.089\n",
              "18         0.554    0.265      0.397\n",
              "19        -0.442    0.231      0.012\n",
              "20        -0.318    0.274      0.213\n",
              "21        -0.202   -0.158     -0.208\n",
              "22         0.119   -0.256     -0.281"
            ],
            "text/html": [
              "\n",
              "  <div id=\"df-f924ee61-b7da-44ba-8380-4d23d448cead\">\n",
              "    <div class=\"colab-df-container\">\n",
              "      <div>\n",
              "<style scoped>\n",
              "    .dataframe tbody tr th:only-of-type {\n",
              "        vertical-align: middle;\n",
              "    }\n",
              "\n",
              "    .dataframe tbody tr th {\n",
              "        vertical-align: top;\n",
              "    }\n",
              "\n",
              "    .dataframe thead th {\n",
              "        text-align: right;\n",
              "    }\n",
              "</style>\n",
              "<table border=\"1\" class=\"dataframe\">\n",
              "  <thead>\n",
              "    <tr style=\"text-align: right;\">\n",
              "      <th></th>\n",
              "      <th>instrumental</th>\n",
              "      <th>hedonic</th>\n",
              "      <th>cognitive</th>\n",
              "    </tr>\n",
              "  </thead>\n",
              "  <tbody>\n",
              "    <tr>\n",
              "      <th>0</th>\n",
              "      <td>-0.594</td>\n",
              "      <td>0.804</td>\n",
              "      <td>0.072</td>\n",
              "    </tr>\n",
              "    <tr>\n",
              "      <th>1</th>\n",
              "      <td>0.000</td>\n",
              "      <td>0.000</td>\n",
              "      <td>0.000</td>\n",
              "    </tr>\n",
              "    <tr>\n",
              "      <th>2</th>\n",
              "      <td>-0.142</td>\n",
              "      <td>-1.255</td>\n",
              "      <td>1.078</td>\n",
              "    </tr>\n",
              "    <tr>\n",
              "      <th>3</th>\n",
              "      <td>0.292</td>\n",
              "      <td>0.133</td>\n",
              "      <td>0.494</td>\n",
              "    </tr>\n",
              "    <tr>\n",
              "      <th>4</th>\n",
              "      <td>-0.096</td>\n",
              "      <td>-0.089</td>\n",
              "      <td>0.039</td>\n",
              "    </tr>\n",
              "    <tr>\n",
              "      <th>5</th>\n",
              "      <td>0.175</td>\n",
              "      <td>-0.150</td>\n",
              "      <td>-0.241</td>\n",
              "    </tr>\n",
              "    <tr>\n",
              "      <th>6</th>\n",
              "      <td>-0.508</td>\n",
              "      <td>0.275</td>\n",
              "      <td>-0.226</td>\n",
              "    </tr>\n",
              "    <tr>\n",
              "      <th>7</th>\n",
              "      <td>0.143</td>\n",
              "      <td>-0.000</td>\n",
              "      <td>0.357</td>\n",
              "    </tr>\n",
              "    <tr>\n",
              "      <th>8</th>\n",
              "      <td>0.459</td>\n",
              "      <td>0.802</td>\n",
              "      <td>0.251</td>\n",
              "    </tr>\n",
              "    <tr>\n",
              "      <th>9</th>\n",
              "      <td>0.173</td>\n",
              "      <td>0.232</td>\n",
              "      <td>0.462</td>\n",
              "    </tr>\n",
              "    <tr>\n",
              "      <th>10</th>\n",
              "      <td>-0.124</td>\n",
              "      <td>0.209</td>\n",
              "      <td>0.178</td>\n",
              "    </tr>\n",
              "    <tr>\n",
              "      <th>11</th>\n",
              "      <td>0.000</td>\n",
              "      <td>0.000</td>\n",
              "      <td>0.000</td>\n",
              "    </tr>\n",
              "    <tr>\n",
              "      <th>12</th>\n",
              "      <td>-0.532</td>\n",
              "      <td>-0.966</td>\n",
              "      <td>0.325</td>\n",
              "    </tr>\n",
              "    <tr>\n",
              "      <th>13</th>\n",
              "      <td>0.000</td>\n",
              "      <td>0.000</td>\n",
              "      <td>0.000</td>\n",
              "    </tr>\n",
              "    <tr>\n",
              "      <th>14</th>\n",
              "      <td>-0.082</td>\n",
              "      <td>0.083</td>\n",
              "      <td>0.183</td>\n",
              "    </tr>\n",
              "    <tr>\n",
              "      <th>15</th>\n",
              "      <td>0.077</td>\n",
              "      <td>0.594</td>\n",
              "      <td>-0.006</td>\n",
              "    </tr>\n",
              "    <tr>\n",
              "      <th>16</th>\n",
              "      <td>-0.614</td>\n",
              "      <td>-0.190</td>\n",
              "      <td>1.608</td>\n",
              "    </tr>\n",
              "    <tr>\n",
              "      <th>17</th>\n",
              "      <td>0.316</td>\n",
              "      <td>0.018</td>\n",
              "      <td>-0.089</td>\n",
              "    </tr>\n",
              "    <tr>\n",
              "      <th>18</th>\n",
              "      <td>0.554</td>\n",
              "      <td>0.265</td>\n",
              "      <td>0.397</td>\n",
              "    </tr>\n",
              "    <tr>\n",
              "      <th>19</th>\n",
              "      <td>-0.442</td>\n",
              "      <td>0.231</td>\n",
              "      <td>0.012</td>\n",
              "    </tr>\n",
              "    <tr>\n",
              "      <th>20</th>\n",
              "      <td>-0.318</td>\n",
              "      <td>0.274</td>\n",
              "      <td>0.213</td>\n",
              "    </tr>\n",
              "    <tr>\n",
              "      <th>21</th>\n",
              "      <td>-0.202</td>\n",
              "      <td>-0.158</td>\n",
              "      <td>-0.208</td>\n",
              "    </tr>\n",
              "    <tr>\n",
              "      <th>22</th>\n",
              "      <td>0.119</td>\n",
              "      <td>-0.256</td>\n",
              "      <td>-0.281</td>\n",
              "    </tr>\n",
              "  </tbody>\n",
              "</table>\n",
              "</div>\n",
              "      <button class=\"colab-df-convert\" onclick=\"convertToInteractive('df-f924ee61-b7da-44ba-8380-4d23d448cead')\"\n",
              "              title=\"Convert this dataframe to an interactive table.\"\n",
              "              style=\"display:none;\">\n",
              "        \n",
              "  <svg xmlns=\"http://www.w3.org/2000/svg\" height=\"24px\"viewBox=\"0 0 24 24\"\n",
              "       width=\"24px\">\n",
              "    <path d=\"M0 0h24v24H0V0z\" fill=\"none\"/>\n",
              "    <path d=\"M18.56 5.44l.94 2.06.94-2.06 2.06-.94-2.06-.94-.94-2.06-.94 2.06-2.06.94zm-11 1L8.5 8.5l.94-2.06 2.06-.94-2.06-.94L8.5 2.5l-.94 2.06-2.06.94zm10 10l.94 2.06.94-2.06 2.06-.94-2.06-.94-.94-2.06-.94 2.06-2.06.94z\"/><path d=\"M17.41 7.96l-1.37-1.37c-.4-.4-.92-.59-1.43-.59-.52 0-1.04.2-1.43.59L10.3 9.45l-7.72 7.72c-.78.78-.78 2.05 0 2.83L4 21.41c.39.39.9.59 1.41.59.51 0 1.02-.2 1.41-.59l7.78-7.78 2.81-2.81c.8-.78.8-2.07 0-2.86zM5.41 20L4 18.59l7.72-7.72 1.47 1.35L5.41 20z\"/>\n",
              "  </svg>\n",
              "      </button>\n",
              "      \n",
              "  <style>\n",
              "    .colab-df-container {\n",
              "      display:flex;\n",
              "      flex-wrap:wrap;\n",
              "      gap: 12px;\n",
              "    }\n",
              "\n",
              "    .colab-df-convert {\n",
              "      background-color: #E8F0FE;\n",
              "      border: none;\n",
              "      border-radius: 50%;\n",
              "      cursor: pointer;\n",
              "      display: none;\n",
              "      fill: #1967D2;\n",
              "      height: 32px;\n",
              "      padding: 0 0 0 0;\n",
              "      width: 32px;\n",
              "    }\n",
              "\n",
              "    .colab-df-convert:hover {\n",
              "      background-color: #E2EBFA;\n",
              "      box-shadow: 0px 1px 2px rgba(60, 64, 67, 0.3), 0px 1px 3px 1px rgba(60, 64, 67, 0.15);\n",
              "      fill: #174EA6;\n",
              "    }\n",
              "\n",
              "    [theme=dark] .colab-df-convert {\n",
              "      background-color: #3B4455;\n",
              "      fill: #D2E3FC;\n",
              "    }\n",
              "\n",
              "    [theme=dark] .colab-df-convert:hover {\n",
              "      background-color: #434B5C;\n",
              "      box-shadow: 0px 1px 3px 1px rgba(0, 0, 0, 0.15);\n",
              "      filter: drop-shadow(0px 1px 2px rgba(0, 0, 0, 0.3));\n",
              "      fill: #FFFFFF;\n",
              "    }\n",
              "  </style>\n",
              "\n",
              "      <script>\n",
              "        const buttonEl =\n",
              "          document.querySelector('#df-f924ee61-b7da-44ba-8380-4d23d448cead button.colab-df-convert');\n",
              "        buttonEl.style.display =\n",
              "          google.colab.kernel.accessAllowed ? 'block' : 'none';\n",
              "\n",
              "        async function convertToInteractive(key) {\n",
              "          const element = document.querySelector('#df-f924ee61-b7da-44ba-8380-4d23d448cead');\n",
              "          const dataTable =\n",
              "            await google.colab.kernel.invokeFunction('convertToInteractive',\n",
              "                                                     [key], {});\n",
              "          if (!dataTable) return;\n",
              "\n",
              "          const docLinkHtml = 'Like what you see? Visit the ' +\n",
              "            '<a target=\"_blank\" href=https://colab.research.google.com/notebooks/data_table.ipynb>data table notebook</a>'\n",
              "            + ' to learn more about interactive tables.';\n",
              "          element.innerHTML = '';\n",
              "          dataTable['output_type'] = 'display_data';\n",
              "          await google.colab.output.renderOutput(dataTable, element);\n",
              "          const docLink = document.createElement('div');\n",
              "          docLink.innerHTML = docLinkHtml;\n",
              "          element.appendChild(docLink);\n",
              "        }\n",
              "      </script>\n",
              "    </div>\n",
              "  </div>\n",
              "  "
            ]
          },
          "metadata": {},
          "execution_count": 431
        }
      ],
      "source": [
        "df3"
      ]
    },
    {
      "cell_type": "code",
      "source": [
        "df4"
      ],
      "metadata": {
        "colab": {
          "base_uri": "https://localhost:8080/",
          "height": 771
        },
        "id": "1ZDExXyelCDY",
        "outputId": "aaa80e07-ac7d-45ad-a016-d782243938ad"
      },
      "execution_count": null,
      "outputs": [
        {
          "output_type": "execute_result",
          "data": {
            "text/plain": [
              "    instrumental  hedonic  cognitive\n",
              "0          0.000    0.000      0.000\n",
              "1          0.000    0.000      0.000\n",
              "2          0.346    0.009     -0.295\n",
              "3          0.000    0.000      0.000\n",
              "4          0.068    0.215      0.029\n",
              "5         -0.453    0.556     -0.130\n",
              "6          0.147   -0.206      0.257\n",
              "7          0.167    0.000      0.167\n",
              "8          0.000    0.000      0.000\n",
              "9          0.000    0.000      0.000\n",
              "10         0.072    0.060      0.332\n",
              "11        -0.057    0.013     -0.003\n",
              "12        -0.367    0.317     -0.033\n",
              "13         0.000    0.000      0.000\n",
              "14         0.000    0.000      0.000\n",
              "15        -0.367    0.006     -0.223\n",
              "16        -0.188    0.047      0.113\n",
              "17        -0.030    0.068     -0.106\n",
              "18         0.000    0.000      0.267\n",
              "19        -0.334   -0.037      0.280\n",
              "20         0.000    0.000      0.000\n",
              "21         0.000    0.000      0.000\n",
              "22         0.000    0.000      0.000"
            ],
            "text/html": [
              "\n",
              "  <div id=\"df-96b693d8-dd4a-45d1-878b-0a45d3eacffd\">\n",
              "    <div class=\"colab-df-container\">\n",
              "      <div>\n",
              "<style scoped>\n",
              "    .dataframe tbody tr th:only-of-type {\n",
              "        vertical-align: middle;\n",
              "    }\n",
              "\n",
              "    .dataframe tbody tr th {\n",
              "        vertical-align: top;\n",
              "    }\n",
              "\n",
              "    .dataframe thead th {\n",
              "        text-align: right;\n",
              "    }\n",
              "</style>\n",
              "<table border=\"1\" class=\"dataframe\">\n",
              "  <thead>\n",
              "    <tr style=\"text-align: right;\">\n",
              "      <th></th>\n",
              "      <th>instrumental</th>\n",
              "      <th>hedonic</th>\n",
              "      <th>cognitive</th>\n",
              "    </tr>\n",
              "  </thead>\n",
              "  <tbody>\n",
              "    <tr>\n",
              "      <th>0</th>\n",
              "      <td>0.000</td>\n",
              "      <td>0.000</td>\n",
              "      <td>0.000</td>\n",
              "    </tr>\n",
              "    <tr>\n",
              "      <th>1</th>\n",
              "      <td>0.000</td>\n",
              "      <td>0.000</td>\n",
              "      <td>0.000</td>\n",
              "    </tr>\n",
              "    <tr>\n",
              "      <th>2</th>\n",
              "      <td>0.346</td>\n",
              "      <td>0.009</td>\n",
              "      <td>-0.295</td>\n",
              "    </tr>\n",
              "    <tr>\n",
              "      <th>3</th>\n",
              "      <td>0.000</td>\n",
              "      <td>0.000</td>\n",
              "      <td>0.000</td>\n",
              "    </tr>\n",
              "    <tr>\n",
              "      <th>4</th>\n",
              "      <td>0.068</td>\n",
              "      <td>0.215</td>\n",
              "      <td>0.029</td>\n",
              "    </tr>\n",
              "    <tr>\n",
              "      <th>5</th>\n",
              "      <td>-0.453</td>\n",
              "      <td>0.556</td>\n",
              "      <td>-0.130</td>\n",
              "    </tr>\n",
              "    <tr>\n",
              "      <th>6</th>\n",
              "      <td>0.147</td>\n",
              "      <td>-0.206</td>\n",
              "      <td>0.257</td>\n",
              "    </tr>\n",
              "    <tr>\n",
              "      <th>7</th>\n",
              "      <td>0.167</td>\n",
              "      <td>0.000</td>\n",
              "      <td>0.167</td>\n",
              "    </tr>\n",
              "    <tr>\n",
              "      <th>8</th>\n",
              "      <td>0.000</td>\n",
              "      <td>0.000</td>\n",
              "      <td>0.000</td>\n",
              "    </tr>\n",
              "    <tr>\n",
              "      <th>9</th>\n",
              "      <td>0.000</td>\n",
              "      <td>0.000</td>\n",
              "      <td>0.000</td>\n",
              "    </tr>\n",
              "    <tr>\n",
              "      <th>10</th>\n",
              "      <td>0.072</td>\n",
              "      <td>0.060</td>\n",
              "      <td>0.332</td>\n",
              "    </tr>\n",
              "    <tr>\n",
              "      <th>11</th>\n",
              "      <td>-0.057</td>\n",
              "      <td>0.013</td>\n",
              "      <td>-0.003</td>\n",
              "    </tr>\n",
              "    <tr>\n",
              "      <th>12</th>\n",
              "      <td>-0.367</td>\n",
              "      <td>0.317</td>\n",
              "      <td>-0.033</td>\n",
              "    </tr>\n",
              "    <tr>\n",
              "      <th>13</th>\n",
              "      <td>0.000</td>\n",
              "      <td>0.000</td>\n",
              "      <td>0.000</td>\n",
              "    </tr>\n",
              "    <tr>\n",
              "      <th>14</th>\n",
              "      <td>0.000</td>\n",
              "      <td>0.000</td>\n",
              "      <td>0.000</td>\n",
              "    </tr>\n",
              "    <tr>\n",
              "      <th>15</th>\n",
              "      <td>-0.367</td>\n",
              "      <td>0.006</td>\n",
              "      <td>-0.223</td>\n",
              "    </tr>\n",
              "    <tr>\n",
              "      <th>16</th>\n",
              "      <td>-0.188</td>\n",
              "      <td>0.047</td>\n",
              "      <td>0.113</td>\n",
              "    </tr>\n",
              "    <tr>\n",
              "      <th>17</th>\n",
              "      <td>-0.030</td>\n",
              "      <td>0.068</td>\n",
              "      <td>-0.106</td>\n",
              "    </tr>\n",
              "    <tr>\n",
              "      <th>18</th>\n",
              "      <td>0.000</td>\n",
              "      <td>0.000</td>\n",
              "      <td>0.267</td>\n",
              "    </tr>\n",
              "    <tr>\n",
              "      <th>19</th>\n",
              "      <td>-0.334</td>\n",
              "      <td>-0.037</td>\n",
              "      <td>0.280</td>\n",
              "    </tr>\n",
              "    <tr>\n",
              "      <th>20</th>\n",
              "      <td>0.000</td>\n",
              "      <td>0.000</td>\n",
              "      <td>0.000</td>\n",
              "    </tr>\n",
              "    <tr>\n",
              "      <th>21</th>\n",
              "      <td>0.000</td>\n",
              "      <td>0.000</td>\n",
              "      <td>0.000</td>\n",
              "    </tr>\n",
              "    <tr>\n",
              "      <th>22</th>\n",
              "      <td>0.000</td>\n",
              "      <td>0.000</td>\n",
              "      <td>0.000</td>\n",
              "    </tr>\n",
              "  </tbody>\n",
              "</table>\n",
              "</div>\n",
              "      <button class=\"colab-df-convert\" onclick=\"convertToInteractive('df-96b693d8-dd4a-45d1-878b-0a45d3eacffd')\"\n",
              "              title=\"Convert this dataframe to an interactive table.\"\n",
              "              style=\"display:none;\">\n",
              "        \n",
              "  <svg xmlns=\"http://www.w3.org/2000/svg\" height=\"24px\"viewBox=\"0 0 24 24\"\n",
              "       width=\"24px\">\n",
              "    <path d=\"M0 0h24v24H0V0z\" fill=\"none\"/>\n",
              "    <path d=\"M18.56 5.44l.94 2.06.94-2.06 2.06-.94-2.06-.94-.94-2.06-.94 2.06-2.06.94zm-11 1L8.5 8.5l.94-2.06 2.06-.94-2.06-.94L8.5 2.5l-.94 2.06-2.06.94zm10 10l.94 2.06.94-2.06 2.06-.94-2.06-.94-.94-2.06-.94 2.06-2.06.94z\"/><path d=\"M17.41 7.96l-1.37-1.37c-.4-.4-.92-.59-1.43-.59-.52 0-1.04.2-1.43.59L10.3 9.45l-7.72 7.72c-.78.78-.78 2.05 0 2.83L4 21.41c.39.39.9.59 1.41.59.51 0 1.02-.2 1.41-.59l7.78-7.78 2.81-2.81c.8-.78.8-2.07 0-2.86zM5.41 20L4 18.59l7.72-7.72 1.47 1.35L5.41 20z\"/>\n",
              "  </svg>\n",
              "      </button>\n",
              "      \n",
              "  <style>\n",
              "    .colab-df-container {\n",
              "      display:flex;\n",
              "      flex-wrap:wrap;\n",
              "      gap: 12px;\n",
              "    }\n",
              "\n",
              "    .colab-df-convert {\n",
              "      background-color: #E8F0FE;\n",
              "      border: none;\n",
              "      border-radius: 50%;\n",
              "      cursor: pointer;\n",
              "      display: none;\n",
              "      fill: #1967D2;\n",
              "      height: 32px;\n",
              "      padding: 0 0 0 0;\n",
              "      width: 32px;\n",
              "    }\n",
              "\n",
              "    .colab-df-convert:hover {\n",
              "      background-color: #E2EBFA;\n",
              "      box-shadow: 0px 1px 2px rgba(60, 64, 67, 0.3), 0px 1px 3px 1px rgba(60, 64, 67, 0.15);\n",
              "      fill: #174EA6;\n",
              "    }\n",
              "\n",
              "    [theme=dark] .colab-df-convert {\n",
              "      background-color: #3B4455;\n",
              "      fill: #D2E3FC;\n",
              "    }\n",
              "\n",
              "    [theme=dark] .colab-df-convert:hover {\n",
              "      background-color: #434B5C;\n",
              "      box-shadow: 0px 1px 3px 1px rgba(0, 0, 0, 0.15);\n",
              "      filter: drop-shadow(0px 1px 2px rgba(0, 0, 0, 0.3));\n",
              "      fill: #FFFFFF;\n",
              "    }\n",
              "  </style>\n",
              "\n",
              "      <script>\n",
              "        const buttonEl =\n",
              "          document.querySelector('#df-96b693d8-dd4a-45d1-878b-0a45d3eacffd button.colab-df-convert');\n",
              "        buttonEl.style.display =\n",
              "          google.colab.kernel.accessAllowed ? 'block' : 'none';\n",
              "\n",
              "        async function convertToInteractive(key) {\n",
              "          const element = document.querySelector('#df-96b693d8-dd4a-45d1-878b-0a45d3eacffd');\n",
              "          const dataTable =\n",
              "            await google.colab.kernel.invokeFunction('convertToInteractive',\n",
              "                                                     [key], {});\n",
              "          if (!dataTable) return;\n",
              "\n",
              "          const docLinkHtml = 'Like what you see? Visit the ' +\n",
              "            '<a target=\"_blank\" href=https://colab.research.google.com/notebooks/data_table.ipynb>data table notebook</a>'\n",
              "            + ' to learn more about interactive tables.';\n",
              "          element.innerHTML = '';\n",
              "          dataTable['output_type'] = 'display_data';\n",
              "          await google.colab.output.renderOutput(dataTable, element);\n",
              "          const docLink = document.createElement('div');\n",
              "          docLink.innerHTML = docLinkHtml;\n",
              "          element.appendChild(docLink);\n",
              "        }\n",
              "      </script>\n",
              "    </div>\n",
              "  </div>\n",
              "  "
            ]
          },
          "metadata": {},
          "execution_count": 432
        }
      ]
    },
    {
      "cell_type": "markdown",
      "source": [
        "3c2 for graphical data"
      ],
      "metadata": {
        "id": "1dbrgJK28Ozd"
      }
    },
    {
      "cell_type": "code",
      "source": [
        "import statsmodels.api as sm\n",
        "from sklearn.model_selection import train_test_split\n",
        "from sklearn.linear_model import LinearRegression\n",
        "from sklearn import metrics\n",
        "colname=['x1','x2','x3']\n",
        "for a in range(len(colname)):\n",
        "  for b in range(len(colname)):\n",
        "    l11=[]\n",
        "    l12=[]\n",
        "    l13=[]\n",
        "    l14=[]\n",
        "    if(a<b):\n",
        "      for i in range(n1):\n",
        "        pp12=grouped_data1.get_group(i)\n",
        "        y =pp12[\"y\"]\n",
        "        y=pd.DataFrame(y)\n",
        "        xx=pp12[[colname[a],colname[b]]]\n",
        "        model=LinearRegression()\n",
        "        model.fit(xx,y)\n",
        "        L=model.coef_\n",
        "        model1 = sm.OLS(y, xx).fit()\n",
        "        aic_bic_score.append([model1.aic,model1.bic])\n",
        "        l11.append(round(model.coef_[0][0],3))\n",
        "        l12.append(round(model.coef_[0][1],3))\n",
        "        l14.append(round(model.intercept_[0],3))\n",
        "      utilities=['instrumental','hedonic','cognitive']\n",
        "      df={utilities[a]:[],utilities[b]:[]}\n",
        "      df[utilities[a]]=l11\n",
        "      df[utilities[b]]=l12\n",
        "      df=pd.DataFrame(df)\n",
        "      import matplotlib.pyplot as plt\n",
        "      import matplotlib.pyplot as plt\n",
        "      %matplotlib inline\n",
        "      l3=np.arange(len(l1))\n",
        "      plt1=plt.figure(figsize=(10, 5))\n",
        "      plt.title(\"Graphical 3C2 coefficients\")\n",
        "      plt.xticks(l3,l1)\n",
        "      plt.bar(l3-0.1,l11,width=0.2,label=utilities[a])\n",
        "      plt.bar(l3+0.1,l12,width=0.2,label=utilities[b])\n",
        "      plt.legend()\n",
        "      plt.show()\n",
        "      print(df)"
      ],
      "metadata": {
        "colab": {
          "base_uri": "https://localhost:8080/",
          "height": 1000
        },
        "id": "mtZdcGmFlCiY",
        "outputId": "2bb89d1a-21b7-49f6-88a0-5a42bd23f590"
      },
      "execution_count": null,
      "outputs": [
        {
          "output_type": "display_data",
          "data": {
            "text/plain": [
              "<Figure size 720x360 with 1 Axes>"
            ],
            "image/png": "[encoded data removed]"
          },
          "metadata": {
            "needs_background": "light"
          }
        },
        {
          "output_type": "stream",
          "name": "stdout",
          "text": [
            "    instrumental  hedonic\n",
            "0         -0.842    0.454\n",
            "1         -0.637    0.417\n",
            "2         -0.686    0.652\n",
            "3         -0.740    0.647\n",
            "4         -0.884   -0.140\n",
            "5         -0.478    0.503\n",
            "6         -0.971    1.530\n",
            "7         -0.716    0.221\n",
            "8         -0.842    0.968\n",
            "9         -1.073    0.708\n",
            "10        -0.634    0.707\n",
            "11        -0.740    0.564\n",
            "12        -0.584    1.047\n",
            "13        -0.398    0.139\n",
            "14        -0.952   -0.258\n",
            "15        -1.293    1.476\n",
            "16        -1.708    1.456\n",
            "17        -1.048    0.478\n",
            "18        -0.549    0.339\n",
            "19        -0.810    0.617\n",
            "20        -0.545    0.945\n",
            "21        -0.938    1.687\n",
            "22        -0.296    1.137\n"
          ]
        },
        {
          "output_type": "display_data",
          "data": {
            "text/plain": [
              "<Figure size 720x360 with 1 Axes>"
            ],
            "image/png": "[encoded data removed]"
          },
          "metadata": {
            "needs_background": "light"
          }
        },
        {
          "output_type": "stream",
          "name": "stdout",
          "text": [
            "    instrumental  cognitive\n",
            "0         -0.896      0.509\n",
            "1         -0.565     -0.761\n",
            "2         -0.961      0.965\n",
            "3         -0.855      0.503\n",
            "4          0.047     -1.173\n",
            "5         -0.623      0.190\n",
            "6         -0.663      0.049\n",
            "7         -0.716      0.166\n",
            "8         -0.849      0.755\n",
            "9         -1.170      0.456\n",
            "10        -0.802      0.745\n",
            "11        -1.147      0.921\n",
            "12        -0.754      1.344\n",
            "13        -0.539      0.396\n",
            "14        -0.899      0.067\n",
            "15        -1.151      0.966\n",
            "16        -1.017     -0.276\n",
            "17        -1.480      1.036\n",
            "18        -0.873      0.662\n",
            "19        -0.823      0.007\n",
            "20        -0.826      0.902\n",
            "21        -0.833      1.361\n",
            "22        -0.430      0.837\n"
          ]
        },
        {
          "output_type": "display_data",
          "data": {
            "text/plain": [
              "<Figure size 720x360 with 1 Axes>"
            ],
            "image/png": "[encoded data removed]"
          },
          "metadata": {
            "needs_background": "light"
          }
        },
        {
          "output_type": "stream",
          "name": "stdout",
          "text": [
            "    hedonic  cognitive\n",
            "0     0.898     -1.902\n",
            "1     1.211     -1.842\n",
            "2     0.462     -0.189\n",
            "3     0.668     -0.139\n",
            "4     0.240     -1.176\n",
            "5     0.875     -0.375\n",
            "6     0.995     -0.849\n",
            "7    -0.427     -0.569\n",
            "8     0.570      0.436\n",
            "9     0.205     -0.825\n",
            "10    1.233     -1.311\n",
            "11    0.406     -0.235\n",
            "12   -0.356      0.964\n",
            "13    0.097     -0.461\n",
            "14    0.981      0.385\n",
            "15   -1.531      0.806\n",
            "16    1.402     -3.340\n",
            "17    0.577     -0.731\n",
            "18    0.224     -0.604\n",
            "19    1.811     -2.221\n",
            "20    1.217     -0.162\n",
            "21   -1.600      2.000\n",
            "22    0.948     -0.029\n"
          ]
        }
      ]
    },
    {
      "cell_type": "markdown",
      "source": [
        "3c2 for type2 data"
      ],
      "metadata": {
        "id": "UWh1XEtc8dCp"
      }
    },
    {
      "cell_type": "code",
      "source": [
        "\n",
        "import statsmodels.api as sm\n",
        "from sklearn.model_selection import train_test_split\n",
        "from sklearn.linear_model import LinearRegression\n",
        "from sklearn import metrics\n",
        "colname=['x1','x2','x3']\n",
        "for a in range(len(colname)):\n",
        "  for b in range(len(colname)):\n",
        "    l11=[]\n",
        "    l12=[]\n",
        "    l13=[]\n",
        "    l14=[]\n",
        "    if(a<b):\n",
        "      for i in range(n1):\n",
        "        pp22=grouped_data1.get_group(i)\n",
        "        y =pp22[\"y\"]\n",
        "        y=pd.DataFrame(y)\n",
        "        xx=pp22[[colname[a],colname[b]]]\n",
        "        model=LinearRegression()\n",
        "        model.fit(xx,y)\n",
        "        L=model.coef_\n",
        "        model1 = sm.OLS(y, xx).fit()\n",
        "        l11.append(round(model.coef_[0][0],3))\n",
        "        l12.append(round(model.coef_[0][1],3))\n",
        "        l14.append(round(model.intercept_[0],3))\n",
        "      utilities=['instrumental','hedonic','cognitive']\n",
        "      df={utilities[a]:[],utilities[b]:[]}\n",
        "      df[utilities[a]]=l11\n",
        "      df[utilities[b]]=l12\n",
        "      df=pd.DataFrame(df)\n",
        "      import matplotlib.pyplot as plt\n",
        "      import matplotlib.pyplot as plt\n",
        "      %matplotlib inline\n",
        "      l3=np.arange(len(l1))\n",
        "      plt1=plt.figure(figsize=(10, 5))\n",
        "      plt.title(\"Self Trait 3C2 coefficients\")\n",
        "      plt.xticks(l3,l1)\n",
        "      #plt.figure(figsize=(10, 10))\n",
        "      plt.bar(l3-0.1,l11,width=0.2,label=utilities[a])\n",
        "      plt.bar(l3+0.1,l12,width=0.2,label=utilities[b])\n",
        "      plt.legend()\n",
        "      #plt.figure(figsize=(10, 10))\n",
        "      display(plt.show())\n",
        "      print(df)"
      ],
      "metadata": {
        "colab": {
          "base_uri": "https://localhost:8080/",
          "height": 1000
        },
        "id": "RO-cE4U6aAHP",
        "outputId": "64352fe8-9369-4075-d458-9398ac9249cf"
      },
      "execution_count": null,
      "outputs": [
        {
          "output_type": "display_data",
          "data": {
            "text/plain": [
              "<Figure size 720x360 with 1 Axes>"
            ],
            "image/png": "[encoded data removed]"
          },
          "metadata": {
            "needs_background": "light"
          }
        },
        {
          "output_type": "display_data",
          "data": {
            "text/plain": [
              "None"
            ]
          },
          "metadata": {}
        },
        {
          "output_type": "stream",
          "name": "stdout",
          "text": [
            "    instrumental  hedonic\n",
            "0         -0.842    0.454\n",
            "1         -0.637    0.417\n",
            "2         -0.686    0.652\n",
            "3         -0.740    0.647\n",
            "4         -0.884   -0.140\n",
            "5         -0.478    0.503\n",
            "6         -0.971    1.530\n",
            "7         -0.716    0.221\n",
            "8         -0.842    0.968\n",
            "9         -1.073    0.708\n",
            "10        -0.634    0.707\n",
            "11        -0.740    0.564\n",
            "12        -0.584    1.047\n",
            "13        -0.398    0.139\n",
            "14        -0.952   -0.258\n",
            "15        -1.293    1.476\n",
            "16        -1.708    1.456\n",
            "17        -1.048    0.478\n",
            "18        -0.549    0.339\n",
            "19        -0.810    0.617\n",
            "20        -0.545    0.945\n",
            "21        -0.938    1.687\n",
            "22        -0.296    1.137\n"
          ]
        },
        {
          "output_type": "display_data",
          "data": {
            "text/plain": [
              "<Figure size 720x360 with 1 Axes>"
            ],
            "image/png": "[encoded data removed]"
          },
          "metadata": {
            "needs_background": "light"
          }
        },
        {
          "output_type": "display_data",
          "data": {
            "text/plain": [
              "None"
            ]
          },
          "metadata": {}
        },
        {
          "output_type": "stream",
          "name": "stdout",
          "text": [
            "    instrumental  cognitive\n",
            "0         -0.896      0.509\n",
            "1         -0.565     -0.761\n",
            "2         -0.961      0.965\n",
            "3         -0.855      0.503\n",
            "4          0.047     -1.173\n",
            "5         -0.623      0.190\n",
            "6         -0.663      0.049\n",
            "7         -0.716      0.166\n",
            "8         -0.849      0.755\n",
            "9         -1.170      0.456\n",
            "10        -0.802      0.745\n",
            "11        -1.147      0.921\n",
            "12        -0.754      1.344\n",
            "13        -0.539      0.396\n",
            "14        -0.899      0.067\n",
            "15        -1.151      0.966\n",
            "16        -1.017     -0.276\n",
            "17        -1.480      1.036\n",
            "18        -0.873      0.662\n",
            "19        -0.823      0.007\n",
            "20        -0.826      0.902\n",
            "21        -0.833      1.361\n",
            "22        -0.430      0.837\n"
          ]
        },
        {
          "output_type": "display_data",
          "data": {
            "text/plain": [
              "<Figure size 720x360 with 1 Axes>"
            ],
            "image/png": "[encoded data removed]"
          },
          "metadata": {
            "needs_background": "light"
          }
        },
        {
          "output_type": "display_data",
          "data": {
            "text/plain": [
              "None"
            ]
          },
          "metadata": {}
        },
        {
          "output_type": "stream",
          "name": "stdout",
          "text": [
            "    hedonic  cognitive\n",
            "0     0.898     -1.902\n",
            "1     1.211     -1.842\n",
            "2     0.462     -0.189\n",
            "3     0.668     -0.139\n",
            "4     0.240     -1.176\n",
            "5     0.875     -0.375\n",
            "6     0.995     -0.849\n",
            "7    -0.427     -0.569\n",
            "8     0.570      0.436\n",
            "9     0.205     -0.825\n",
            "10    1.233     -1.311\n",
            "11    0.406     -0.235\n",
            "12   -0.356      0.964\n",
            "13    0.097     -0.461\n",
            "14    0.981      0.385\n",
            "15   -1.531      0.806\n",
            "16    1.402     -3.340\n",
            "17    0.577     -0.731\n",
            "18    0.224     -0.604\n",
            "19    1.811     -2.221\n",
            "20    1.217     -0.162\n",
            "21   -1.600      2.000\n",
            "22    0.948     -0.029\n"
          ]
        }
      ]
    },
    {
      "cell_type": "markdown",
      "source": [
        "3c2 for type3 data"
      ],
      "metadata": {
        "id": "g3XSjK478koO"
      }
    },
    {
      "cell_type": "code",
      "source": [
        "import statsmodels.api as sm\n",
        "from sklearn.model_selection import train_test_split\n",
        "from sklearn.linear_model import LinearRegression\n",
        "from sklearn import metrics\n",
        "colname=['x1','x2','x3']\n",
        "for a in range(len(colname)):\n",
        "  for b in range(len(colname)):\n",
        "    l11=[]\n",
        "    l12=[]\n",
        "    l13=[]\n",
        "    l14=[]\n",
        "    if(a<b):\n",
        "      for i in range(n1):\n",
        "        pp32=grouped_data1.get_group(i)\n",
        "        y =pp32[\"y\"]\n",
        "        y=pd.DataFrame(y)\n",
        "        xx=pp32[[colname[a],colname[b]]]\n",
        "        model=LinearRegression()\n",
        "        model.fit(xx,y)\n",
        "        L=model.coef_\n",
        "        model1 = sm.OLS(y, xx).fit()\n",
        "        l11.append(round(model.coef_[0][0],3))\n",
        "        l12.append(round(model.coef_[0][1],3))\n",
        "        l14.append(round(model.intercept_[0],3))\n",
        "      utilities=['instrumental','hedonic','cognitive']\n",
        "      df={utilities[a]:[],utilities[b]:[]}\n",
        "      df[utilities[a]]=l11\n",
        "      df[utilities[b]]=l12\n",
        "      df=pd.DataFrame(df)\n",
        "      import matplotlib.pyplot as plt\n",
        "      import matplotlib.pyplot as plt\n",
        "      %matplotlib inline\n",
        "      l3=np.arange(len(l1))\n",
        "      plt1=plt.figure(figsize=(10, 5))\n",
        "      plt.title(\"Finance 3C2 coefficients\")\n",
        "      plt.xticks(l3,l1)\n",
        "      plt.bar(l3-0.1,l11,width=0.2,label=utilities[a])\n",
        "      plt.bar(l3+0.1,l12,width=0.2,label=utilities[b])\n",
        "      plt.legend()\n",
        "      plt.show()\n",
        "      print(df)"
      ],
      "metadata": {
        "colab": {
          "base_uri": "https://localhost:8080/",
          "height": 1000
        },
        "id": "hPFvTiPkaTUr",
        "outputId": "af9e57ac-a258-49f5-f158-ba008b1ac660"
      },
      "execution_count": null,
      "outputs": [
        {
          "output_type": "display_data",
          "data": {
            "text/plain": [
              "<Figure size 720x360 with 1 Axes>"
            ],
            "image/png": "[encoded data removed]"
          },
          "metadata": {
            "needs_background": "light"
          }
        },
        {
          "output_type": "stream",
          "name": "stdout",
          "text": [
            "    instrumental  hedonic\n",
            "0         -0.842    0.454\n",
            "1         -0.637    0.417\n",
            "2         -0.686    0.652\n",
            "3         -0.740    0.647\n",
            "4         -0.884   -0.140\n",
            "5         -0.478    0.503\n",
            "6         -0.971    1.530\n",
            "7         -0.716    0.221\n",
            "8         -0.842    0.968\n",
            "9         -1.073    0.708\n",
            "10        -0.634    0.707\n",
            "11        -0.740    0.564\n",
            "12        -0.584    1.047\n",
            "13        -0.398    0.139\n",
            "14        -0.952   -0.258\n",
            "15        -1.293    1.476\n",
            "16        -1.708    1.456\n",
            "17        -1.048    0.478\n",
            "18        -0.549    0.339\n",
            "19        -0.810    0.617\n",
            "20        -0.545    0.945\n",
            "21        -0.938    1.687\n",
            "22        -0.296    1.137\n"
          ]
        },
        {
          "output_type": "display_data",
          "data": {
            "text/plain": [
              "<Figure size 720x360 with 1 Axes>"
            ],
            "image/png": "[encoded data removed]"
          },
          "metadata": {
            "needs_background": "light"
          }
        },
        {
          "output_type": "stream",
          "name": "stdout",
          "text": [
            "    instrumental  cognitive\n",
            "0         -0.896      0.509\n",
            "1         -0.565     -0.761\n",
            "2         -0.961      0.965\n",
            "3         -0.855      0.503\n",
            "4          0.047     -1.173\n",
            "5         -0.623      0.190\n",
            "6         -0.663      0.049\n",
            "7         -0.716      0.166\n",
            "8         -0.849      0.755\n",
            "9         -1.170      0.456\n",
            "10        -0.802      0.745\n",
            "11        -1.147      0.921\n",
            "12        -0.754      1.344\n",
            "13        -0.539      0.396\n",
            "14        -0.899      0.067\n",
            "15        -1.151      0.966\n",
            "16        -1.017     -0.276\n",
            "17        -1.480      1.036\n",
            "18        -0.873      0.662\n",
            "19        -0.823      0.007\n",
            "20        -0.826      0.902\n",
            "21        -0.833      1.361\n",
            "22        -0.430      0.837\n"
          ]
        },
        {
          "output_type": "display_data",
          "data": {
            "text/plain": [
              "<Figure size 720x360 with 1 Axes>"
            ],
            "image/png": "[encoded data removed]"
          },
          "metadata": {
            "needs_background": "light"
          }
        },
        {
          "output_type": "stream",
          "name": "stdout",
          "text": [
            "    hedonic  cognitive\n",
            "0     0.898     -1.902\n",
            "1     1.211     -1.842\n",
            "2     0.462     -0.189\n",
            "3     0.668     -0.139\n",
            "4     0.240     -1.176\n",
            "5     0.875     -0.375\n",
            "6     0.995     -0.849\n",
            "7    -0.427     -0.569\n",
            "8     0.570      0.436\n",
            "9     0.205     -0.825\n",
            "10    1.233     -1.311\n",
            "11    0.406     -0.235\n",
            "12   -0.356      0.964\n",
            "13    0.097     -0.461\n",
            "14    0.981      0.385\n",
            "15   -1.531      0.806\n",
            "16    1.402     -3.340\n",
            "17    0.577     -0.731\n",
            "18    0.224     -0.604\n",
            "19    1.811     -2.221\n",
            "20    1.217     -0.162\n",
            "21   -1.600      2.000\n",
            "22    0.948     -0.029\n"
          ]
        }
      ]
    },
    {
      "cell_type": "markdown",
      "source": [
        "3c2 for type4 data"
      ],
      "metadata": {
        "id": "JXduaL6C8m6N"
      }
    },
    {
      "cell_type": "code",
      "source": [
        "import statsmodels.api as sm\n",
        "from sklearn.model_selection import train_test_split\n",
        "from sklearn.linear_model import LinearRegression\n",
        "from sklearn import metrics\n",
        "colname=['x1','x2','x3']\n",
        "for a in range(len(colname)):\n",
        "  for b in range(len(colname)):\n",
        "    l11=[]\n",
        "    l12=[]\n",
        "    l13=[]\n",
        "    l14=[]\n",
        "    if(a<b):\n",
        "      for i in range(n1):\n",
        "        pp42=grouped_data1.get_group(i)\n",
        "        y =pp42[\"y\"]\n",
        "        y=pd.DataFrame(y)\n",
        "        xx=pp42[[colname[a],colname[b]]]\n",
        "        model=LinearRegression()\n",
        "        model.fit(xx,y)\n",
        "        L=model.coef_\n",
        "        model1 = sm.OLS(y, xx).fit()\n",
        "        l11.append(round(model.coef_[0][0],3))\n",
        "        l12.append(round(model.coef_[0][1],3))\n",
        "        l14.append(round(model.intercept_[0],3))\n",
        "      utilities=['instrumental','hedonic','cognitive']\n",
        "      df={utilities[a]:[],utilities[b]:[]}\n",
        "      df[utilities[a]]=l11\n",
        "      df[utilities[b]]=l12\n",
        "      df=pd.DataFrame(df)\n",
        "      import matplotlib.pyplot as plt\n",
        "      import matplotlib.pyplot as plt\n",
        "      %matplotlib inline\n",
        "      l3=np.arange(len(l1))\n",
        "      plt1=plt.figure(figsize=(10, 5))\n",
        "      plt.title(\"Health 3C2 coefficients\")\n",
        "      plt.xticks(l3,l1)\n",
        "      plt.bar(l3-0.1,l11,width=0.2,label=utilities[a])\n",
        "      plt.bar(l3+0.1,l12,width=0.2,label=utilities[b])\n",
        "      plt.legend()\n",
        "      plt.show()\n",
        "      print(df)"
      ],
      "metadata": {
        "colab": {
          "base_uri": "https://localhost:8080/",
          "height": 1000
        },
        "id": "zk40i4xTaagd",
        "outputId": "9c8bc1cb-82f6-4b94-fabd-7aba1839e040"
      },
      "execution_count": null,
      "outputs": [
        {
          "output_type": "display_data",
          "data": {
            "text/plain": [
              "<Figure size 720x360 with 1 Axes>"
            ],
            "image/png": "[encoded data removed]"
          },
          "metadata": {
            "needs_background": "light"
          }
        },
        {
          "output_type": "stream",
          "name": "stdout",
          "text": [
            "    instrumental  hedonic\n",
            "0         -0.842    0.454\n",
            "1         -0.637    0.417\n",
            "2         -0.686    0.652\n",
            "3         -0.740    0.647\n",
            "4         -0.884   -0.140\n",
            "5         -0.478    0.503\n",
            "6         -0.971    1.530\n",
            "7         -0.716    0.221\n",
            "8         -0.842    0.968\n",
            "9         -1.073    0.708\n",
            "10        -0.634    0.707\n",
            "11        -0.740    0.564\n",
            "12        -0.584    1.047\n",
            "13        -0.398    0.139\n",
            "14        -0.952   -0.258\n",
            "15        -1.293    1.476\n",
            "16        -1.708    1.456\n",
            "17        -1.048    0.478\n",
            "18        -0.549    0.339\n",
            "19        -0.810    0.617\n",
            "20        -0.545    0.945\n",
            "21        -0.938    1.687\n",
            "22        -0.296    1.137\n"
          ]
        },
        {
          "output_type": "display_data",
          "data": {
            "text/plain": [
              "<Figure size 720x360 with 1 Axes>"
            ],
            "image/png": "[encoded data removed]"
          },
          "metadata": {
            "needs_background": "light"
          }
        },
        {
          "output_type": "stream",
          "name": "stdout",
          "text": [
            "    instrumental  cognitive\n",
            "0         -0.896      0.509\n",
            "1         -0.565     -0.761\n",
            "2         -0.961      0.965\n",
            "3         -0.855      0.503\n",
            "4          0.047     -1.173\n",
            "5         -0.623      0.190\n",
            "6         -0.663      0.049\n",
            "7         -0.716      0.166\n",
            "8         -0.849      0.755\n",
            "9         -1.170      0.456\n",
            "10        -0.802      0.745\n",
            "11        -1.147      0.921\n",
            "12        -0.754      1.344\n",
            "13        -0.539      0.396\n",
            "14        -0.899      0.067\n",
            "15        -1.151      0.966\n",
            "16        -1.017     -0.276\n",
            "17        -1.480      1.036\n",
            "18        -0.873      0.662\n",
            "19        -0.823      0.007\n",
            "20        -0.826      0.902\n",
            "21        -0.833      1.361\n",
            "22        -0.430      0.837\n"
          ]
        },
        {
          "output_type": "display_data",
          "data": {
            "text/plain": [
              "<Figure size 720x360 with 1 Axes>"
            ],
            "image/png": "[encoded data removed]"
          },
          "metadata": {
            "needs_background": "light"
          }
        },
        {
          "output_type": "stream",
          "name": "stdout",
          "text": [
            "    hedonic  cognitive\n",
            "0     0.898     -1.902\n",
            "1     1.211     -1.842\n",
            "2     0.462     -0.189\n",
            "3     0.668     -0.139\n",
            "4     0.240     -1.176\n",
            "5     0.875     -0.375\n",
            "6     0.995     -0.849\n",
            "7    -0.427     -0.569\n",
            "8     0.570      0.436\n",
            "9     0.205     -0.825\n",
            "10    1.233     -1.311\n",
            "11    0.406     -0.235\n",
            "12   -0.356      0.964\n",
            "13    0.097     -0.461\n",
            "14    0.981      0.385\n",
            "15   -1.531      0.806\n",
            "16    1.402     -3.340\n",
            "17    0.577     -0.731\n",
            "18    0.224     -0.604\n",
            "19    1.811     -2.221\n",
            "20    1.217     -0.162\n",
            "21   -1.600      2.000\n",
            "22    0.948     -0.029\n"
          ]
        }
      ]
    },
    {
      "cell_type": "markdown",
      "source": [
        "3c1 for graphical data"
      ],
      "metadata": {
        "id": "_g9yR9Ib8qLt"
      }
    },
    {
      "cell_type": "code",
      "source": [
        "import statsmodels.api as sm\n",
        "from sklearn.model_selection import train_test_split\n",
        "from sklearn.linear_model import LinearRegression\n",
        "from sklearn import metrics\n",
        "colname=['x1','x2','x3']\n",
        "for a in range(len(colname)):\n",
        "  l11=[]\n",
        "  l12=[]\n",
        "  l13=[]\n",
        "  l14=[]\n",
        "  for i in range(n1):\n",
        "    pp12=grouped_data1.get_group(i)\n",
        "    y =pp12[\"y\"]\n",
        "    y=pd.DataFrame(y)\n",
        "    xx=pp12[[colname[a]]]\n",
        "    model=LinearRegression()\n",
        "    model.fit(xx,y)\n",
        "    L=model.coef_\n",
        "    model1 = sm.OLS(y, xx).fit()\n",
        "    aic_bic_score.append([model1.aic,model1.bic])\n",
        "    l11.append(round(model.coef_[0][0],3))\n",
        "    l14.append(round(model.intercept_[0],3))\n",
        "  utilities=['instrumental','hedonic','cognitive']\n",
        "  df={utilities[a]:[]}\n",
        "  df[utilities[a]]=l11\n",
        "  df=pd.DataFrame(df)\n",
        "  import matplotlib.pyplot as plt\n",
        "  import matplotlib.pyplot as plt\n",
        "  %matplotlib inline\n",
        "  l3=np.arange(len(l1))\n",
        "  plt1=plt.figure(figsize=(10, 5))\n",
        "  plt.title(\"Graphical 3C1 coefficients\")\n",
        "  plt.xticks(l3,l1)\n",
        "  plt.bar(l3-0.1,l11,width=0.2,label=utilities[a])\n",
        "  plt.legend()\n",
        "  plt.show()\n",
        "  print(df)"
      ],
      "metadata": {
        "id": "sovdqd8xad_8",
        "colab": {
          "base_uri": "https://localhost:8080/",
          "height": 1000
        },
        "outputId": "de83b15b-97af-431d-9eb0-2daf6d43dc05"
      },
      "execution_count": null,
      "outputs": [
        {
          "output_type": "display_data",
          "data": {
            "text/plain": [
              "<Figure size 720x360 with 1 Axes>"
            ],
            "image/png": "[encoded data removed]"
          },
          "metadata": {
            "needs_background": "light"
          }
        },
        {
          "output_type": "stream",
          "name": "stdout",
          "text": [
            "    instrumental\n",
            "0         -0.714\n",
            "1         -0.707\n",
            "2         -0.591\n",
            "3         -0.717\n",
            "4         -0.868\n",
            "5         -0.553\n",
            "6         -0.648\n",
            "7         -0.661\n",
            "8         -0.950\n",
            "9         -0.803\n",
            "10        -0.491\n",
            "11        -0.478\n",
            "12        -0.073\n",
            "13        -0.352\n",
            "14        -0.897\n",
            "15        -0.767\n",
            "16        -1.134\n",
            "17        -1.045\n",
            "18        -0.500\n",
            "19        -0.821\n",
            "20        -0.766\n",
            "21        -0.774\n",
            "22         0.088\n"
          ]
        },
        {
          "output_type": "display_data",
          "data": {
            "text/plain": [
              "<Figure size 720x360 with 1 Axes>"
            ],
            "image/png": "[encoded data removed]"
          },
          "metadata": {
            "needs_background": "light"
          }
        },
        {
          "output_type": "stream",
          "name": "stdout",
          "text": [
            "    hedonic\n",
            "0    -0.320\n",
            "1     1.545\n",
            "2     0.269\n",
            "3     0.506\n",
            "4    -0.009\n",
            "5     0.829\n",
            "6     0.438\n",
            "7    -1.185\n",
            "8     1.122\n",
            "9    -0.806\n",
            "10    0.474\n",
            "11    0.167\n",
            "12    0.528\n",
            "13   -0.254\n",
            "14    0.813\n",
            "15   -0.625\n",
            "16    0.099\n",
            "17    0.473\n",
            "18   -0.215\n",
            "19    0.657\n",
            "20    1.087\n",
            "21   -0.000\n",
            "22    0.926\n"
          ]
        },
        {
          "output_type": "display_data",
          "data": {
            "text/plain": [
              "<Figure size 720x360 with 1 Axes>"
            ],
            "image/png": "[encoded data removed]"
          },
          "metadata": {
            "needs_background": "light"
          }
        },
        {
          "output_type": "stream",
          "name": "stdout",
          "text": [
            "    cognitive\n",
            "0      -1.048\n",
            "1      -2.111\n",
            "2       0.101\n",
            "3       0.106\n",
            "4      -1.137\n",
            "5      -0.324\n",
            "6      -0.504\n",
            "7      -0.889\n",
            "8       0.866\n",
            "9      -0.739\n",
            "10     -0.204\n",
            "11      0.112\n",
            "12      0.628\n",
            "13     -0.384\n",
            "14     -0.066\n",
            "15      0.044\n",
            "16     -2.154\n",
            "17     -0.538\n",
            "18     -0.547\n",
            "19     -0.933\n",
            "20      0.839\n",
            "21      0.667\n",
            "22      0.463\n"
          ]
        }
      ]
    },
    {
      "cell_type": "markdown",
      "source": [
        "3c1 for type2 data"
      ],
      "metadata": {
        "id": "ZteNnbyA8uTd"
      }
    },
    {
      "cell_type": "code",
      "source": [
        "import statsmodels.api as sm\n",
        "from sklearn.model_selection import train_test_split\n",
        "from sklearn.linear_model import LinearRegression\n",
        "from sklearn import metrics\n",
        "colname=['x1','x2','x3']\n",
        "for a in range(len(colname)):\n",
        "  l11=[]\n",
        "  l12=[]\n",
        "  l13=[]\n",
        "  l14=[]\n",
        "  for i in range(n1):\n",
        "    pp12=grouped_data2.get_group(i)\n",
        "    y =pp12[\"y\"]\n",
        "    y=pd.DataFrame(y)\n",
        "    xx=pp12[[colname[a]]]\n",
        "    model=LinearRegression()\n",
        "    model.fit(xx,y)\n",
        "    L=model.coef_\n",
        "    model1 = sm.OLS(y, xx).fit()\n",
        "    l11.append(round(model.coef_[0][0],3))\n",
        "    l14.append(round(model.intercept_[0],3))\n",
        "  utilities=['instrumental','hedonic','cognitive']\n",
        "  df={utilities[a]:[]}\n",
        "  df[utilities[a]]=l11\n",
        "  df=pd.DataFrame(df)\n",
        "  import matplotlib.pyplot as plt\n",
        "  import matplotlib.pyplot as plt\n",
        "  %matplotlib inline\n",
        "  l3=np.arange(len(l1))\n",
        "  plt1=plt.figure(figsize=(10, 5))\n",
        "  plt.title(\"Self Trait 3C1 coefficients\")\n",
        "  plt.xticks(l3,l1)\n",
        "  plt.bar(l3-0.1,l11,width=0.2,label=utilities[a])\n",
        "  plt.legend()\n",
        "  plt.show()\n",
        "  print(df)"
      ],
      "metadata": {
        "colab": {
          "base_uri": "https://localhost:8080/",
          "height": 1000
        },
        "id": "L3bKNkR_5rAe",
        "outputId": "4a3468db-a48e-4cd3-b680-65aa02eb9e5a"
      },
      "execution_count": null,
      "outputs": [
        {
          "output_type": "display_data",
          "data": {
            "text/plain": [
              "<Figure size 720x360 with 1 Axes>"
            ],
            "image/png": "[encoded data removed]"
          },
          "metadata": {
            "needs_background": "light"
          }
        },
        {
          "output_type": "stream",
          "name": "stdout",
          "text": [
            "    instrumental\n",
            "0          0.041\n",
            "1         -0.000\n",
            "2          0.278\n",
            "3          1.000\n",
            "4         -0.089\n",
            "5          0.529\n",
            "6          0.188\n",
            "7          0.884\n",
            "8          1.429\n",
            "9          0.684\n",
            "10         0.000\n",
            "11        -0.000\n",
            "12        -0.750\n",
            "13         0.000\n",
            "14        -0.099\n",
            "15         0.655\n",
            "16         0.045\n",
            "17        -0.042\n",
            "18         0.166\n",
            "19        -0.000\n",
            "20         0.490\n",
            "21        -0.000\n",
            "22         0.000\n"
          ]
        },
        {
          "output_type": "display_data",
          "data": {
            "text/plain": [
              "<Figure size 720x360 with 1 Axes>"
            ],
            "image/png": "[encoded data removed]"
          },
          "metadata": {
            "needs_background": "light"
          }
        },
        {
          "output_type": "stream",
          "name": "stdout",
          "text": [
            "    hedonic\n",
            "0    -0.333\n",
            "1    -0.000\n",
            "2    -0.774\n",
            "3    -0.043\n",
            "4    -0.006\n",
            "5     0.088\n",
            "6    -0.250\n",
            "7     0.103\n",
            "8    -0.476\n",
            "9     0.651\n",
            "10   -0.000\n",
            "11   -0.000\n",
            "12    1.143\n",
            "13   -0.000\n",
            "14   -0.167\n",
            "15   -0.250\n",
            "16    0.210\n",
            "17    0.536\n",
            "18    0.257\n",
            "19    0.000\n",
            "20   -0.176\n",
            "21   -0.000\n",
            "22   -0.103\n"
          ]
        },
        {
          "output_type": "display_data",
          "data": {
            "text/plain": [
              "<Figure size 720x360 with 1 Axes>"
            ],
            "image/png": "[encoded data removed]"
          },
          "metadata": {
            "needs_background": "light"
          }
        },
        {
          "output_type": "stream",
          "name": "stdout",
          "text": [
            "    cognitive\n",
            "0       0.096\n",
            "1      -0.000\n",
            "2      -0.019\n",
            "3      -0.146\n",
            "4      -0.009\n",
            "5      -0.409\n",
            "6      -0.203\n",
            "7      -0.218\n",
            "8      -1.250\n",
            "9      -0.663\n",
            "10     -0.000\n",
            "11     -0.000\n",
            "12     -0.383\n",
            "13     -0.000\n",
            "14     -0.167\n",
            "15     -1.000\n",
            "16      0.000\n",
            "17     -0.239\n",
            "18     -0.172\n",
            "19     -0.000\n",
            "20      0.357\n",
            "21     -0.000\n",
            "22      0.172\n"
          ]
        }
      ]
    },
    {
      "cell_type": "markdown",
      "source": [
        "3c1 for type 3 data"
      ],
      "metadata": {
        "id": "qxdptg1h8y5H"
      }
    },
    {
      "cell_type": "code",
      "source": [
        "import statsmodels.api as sm\n",
        "from sklearn.model_selection import train_test_split\n",
        "from sklearn.linear_model import LinearRegression\n",
        "from sklearn import metrics\n",
        "colname=['x1','x2','x3']\n",
        "for a in range(len(colname)):\n",
        "  l11=[]\n",
        "  l12=[]\n",
        "  l13=[]\n",
        "  l14=[]\n",
        "  for i in range(n1):\n",
        "    pp12=grouped_data3.get_group(i)\n",
        "    y =pp12[\"y\"]\n",
        "    y=pd.DataFrame(y)\n",
        "    xx=pp12[[colname[a]]]\n",
        "    model=LinearRegression()\n",
        "    model.fit(xx,y)\n",
        "    L=model.coef_\n",
        "    model1 = sm.OLS(y, xx).fit()\n",
        "    l11.append(round(model.coef_[0][0],3))\n",
        "    l14.append(round(model.intercept_[0],3))\n",
        "  utilities=['instrumental','hedonic','cognitive']\n",
        "  df={utilities[a]:[]}\n",
        "  df[utilities[a]]=l11\n",
        "  df=pd.DataFrame(df)\n",
        "  import matplotlib.pyplot as plt\n",
        "  import matplotlib.pyplot as plt\n",
        "  %matplotlib inline\n",
        "  l3=np.arange(len(l1))\n",
        "  plt1=plt.figure(figsize=(10, 5))\n",
        "  plt.title(\"Finance 3C1 coefficients\")\n",
        "  plt.xticks(l3,l1)\n",
        "  plt.bar(l3-0.1,l11,width=0.2,label=utilities[a])\n",
        "  plt.legend()\n",
        "  plt.show()\n",
        "  print(df)"
      ],
      "metadata": {
        "colab": {
          "base_uri": "https://localhost:8080/",
          "height": 1000
        },
        "id": "8q95BzS26dzz",
        "outputId": "16b44b10-3269-4cf3-d9ce-bf3bacd92440"
      },
      "execution_count": null,
      "outputs": [
        {
          "output_type": "display_data",
          "data": {
            "text/plain": [
              "<Figure size 720x360 with 1 Axes>"
            ],
            "image/png": "[encoded data removed]"
          },
          "metadata": {
            "needs_background": "light"
          }
        },
        {
          "output_type": "stream",
          "name": "stdout",
          "text": [
            "    instrumental\n",
            "0         -0.750\n",
            "1         -0.000\n",
            "2         -0.524\n",
            "3          0.071\n",
            "4         -0.069\n",
            "5          0.288\n",
            "6         -0.429\n",
            "7          0.083\n",
            "8          0.188\n",
            "9          0.478\n",
            "10        -0.182\n",
            "11        -0.000\n",
            "12        -1.077\n",
            "13        -0.000\n",
            "14        -0.099\n",
            "15         0.049\n",
            "16        -0.738\n",
            "17         0.276\n",
            "18         0.441\n",
            "19        -0.469\n",
            "20        -0.354\n",
            "21        -0.245\n",
            "22         0.213\n"
          ]
        },
        {
          "output_type": "display_data",
          "data": {
            "text/plain": [
              "<Figure size 720x360 with 1 Axes>"
            ],
            "image/png": "[encoded data removed]"
          },
          "metadata": {
            "needs_background": "light"
          }
        },
        {
          "output_type": "stream",
          "name": "stdout",
          "text": [
            "    hedonic\n",
            "0     0.885\n",
            "1    -0.000\n",
            "2    -0.333\n",
            "3     0.155\n",
            "4    -0.065\n",
            "5    -0.104\n",
            "6     0.315\n",
            "7     0.200\n",
            "8     0.466\n",
            "9     0.579\n",
            "10    0.220\n",
            "11   -0.000\n",
            "12   -1.077\n",
            "13   -0.000\n",
            "14    0.095\n",
            "15    0.591\n",
            "16   -0.143\n",
            "17   -0.041\n",
            "18    0.009\n",
            "19    0.333\n",
            "20    0.258\n",
            "21   -0.262\n",
            "22   -0.208\n"
          ]
        },
        {
          "output_type": "display_data",
          "data": {
            "text/plain": [
              "<Figure size 720x360 with 1 Axes>"
            ],
            "image/png": "[encoded data removed]"
          },
          "metadata": {
            "needs_background": "light"
          }
        },
        {
          "output_type": "stream",
          "name": "stdout",
          "text": [
            "    cognitive\n",
            "0       0.212\n",
            "1       0.000\n",
            "2       0.072\n",
            "3       0.369\n",
            "4       0.087\n",
            "5      -0.202\n",
            "6      -0.135\n",
            "7       0.333\n",
            "8      -0.032\n",
            "9       0.767\n",
            "10      0.220\n",
            "11      0.000\n",
            "12     -0.154\n",
            "13      0.000\n",
            "14      0.190\n",
            "15     -0.091\n",
            "16      1.643\n",
            "17      0.097\n",
            "18      0.200\n",
            "19     -0.101\n",
            "20      0.376\n",
            "21     -0.263\n",
            "22     -0.213\n"
          ]
        }
      ]
    },
    {
      "cell_type": "markdown",
      "source": [
        "3c1 for type 4 data"
      ],
      "metadata": {
        "id": "gNLvm7HT82Rk"
      }
    },
    {
      "cell_type": "code",
      "source": [
        "import statsmodels.api as sm\n",
        "from sklearn.model_selection import train_test_split\n",
        "from sklearn.linear_model import LinearRegression\n",
        "from sklearn import metrics\n",
        "colname=['x1','x2','x3']\n",
        "for a in range(len(colname)):\n",
        "  l11=[]\n",
        "  l12=[]\n",
        "  l13=[]\n",
        "  l14=[]\n",
        "  for i in range(n1):\n",
        "    pp12=grouped_data4.get_group(i)\n",
        "    y =pp12[\"y\"]\n",
        "    y=pd.DataFrame(y)\n",
        "    xx=pp12[[colname[a]]]\n",
        "    model=LinearRegression()\n",
        "    model.fit(xx,y)\n",
        "    L=model.coef_\n",
        "    model1 = sm.OLS(y, xx).fit()\n",
        "    l11.append(round(model.coef_[0][0],3))\n",
        "    l14.append(round(model.intercept_[0],3))\n",
        "  utilities=['instrumental','hedonic','cognitive']\n",
        "  df={utilities[a]:[]}\n",
        "  df[utilities[a]]=l11\n",
        "  df=pd.DataFrame(df)\n",
        "  import matplotlib.pyplot as plt\n",
        "  import matplotlib.pyplot as plt\n",
        "  %matplotlib inline\n",
        "  l3=np.arange(len(l1))\n",
        "  plt1=plt.figure(figsize=(10, 5))\n",
        "  plt.title(\"Health 3C1 coefficients\")\n",
        "  plt.xticks(l3,l1)\n",
        "  plt.bar(l3-0.1,l11,width=0.2,label=utilities[a])\n",
        "  plt.legend()\n",
        "  plt.show()\n",
        "  print(df)"
      ],
      "metadata": {
        "colab": {
          "base_uri": "https://localhost:8080/",
          "height": 1000
        },
        "id": "3aDI9uoX6dse",
        "outputId": "5bd86d3d-1656-4160-d65b-a55b0b9f27f3"
      },
      "execution_count": null,
      "outputs": [
        {
          "output_type": "display_data",
          "data": {
            "text/plain": [
              "<Figure size 720x360 with 1 Axes>"
            ],
            "image/png": "[encoded data removed]"
          },
          "metadata": {
            "needs_background": "light"
          }
        },
        {
          "output_type": "stream",
          "name": "stdout",
          "text": [
            "    instrumental\n",
            "0          0.000\n",
            "1         -0.000\n",
            "2          0.377\n",
            "3         -0.000\n",
            "4          0.018\n",
            "5         -0.510\n",
            "6          0.030\n",
            "7          0.125\n",
            "8         -0.000\n",
            "9         -0.000\n",
            "10        -0.002\n",
            "11        -0.055\n",
            "12        -0.306\n",
            "13         0.000\n",
            "14        -0.000\n",
            "15        -0.248\n",
            "16        -0.218\n",
            "17         0.034\n",
            "18        -0.100\n",
            "19        -0.290\n",
            "20         0.000\n",
            "21        -0.000\n",
            "22        -0.000\n"
          ]
        },
        {
          "output_type": "display_data",
          "data": {
            "text/plain": [
              "<Figure size 720x360 with 1 Axes>"
            ],
            "image/png": "[encoded data removed]"
          },
          "metadata": {
            "needs_background": "light"
          }
        },
        {
          "output_type": "stream",
          "name": "stdout",
          "text": [
            "    hedonic\n",
            "0     0.000\n",
            "1    -0.000\n",
            "2     0.042\n",
            "3    -0.000\n",
            "4     0.208\n",
            "5     0.661\n",
            "6    -0.073\n",
            "7     0.125\n",
            "8    -0.000\n",
            "9    -0.000\n",
            "10    0.083\n",
            "11    0.006\n",
            "12    0.250\n",
            "13    0.000\n",
            "14    0.000\n",
            "15    0.211\n",
            "16    0.064\n",
            "17    0.086\n",
            "18   -0.100\n",
            "19   -0.050\n",
            "20    0.000\n",
            "21    0.000\n",
            "22   -0.000\n"
          ]
        },
        {
          "output_type": "display_data",
          "data": {
            "text/plain": [
              "<Figure size 720x360 with 1 Axes>"
            ],
            "image/png": "[encoded data removed]"
          },
          "metadata": {
            "needs_background": "light"
          }
        },
        {
          "output_type": "stream",
          "name": "stdout",
          "text": [
            "    cognitive\n",
            "0       0.000\n",
            "1       0.000\n",
            "2      -0.336\n",
            "3       0.000\n",
            "4       0.019\n",
            "5      -0.117\n",
            "6       0.177\n",
            "7       0.125\n",
            "8       0.000\n",
            "9       0.000\n",
            "10      0.319\n",
            "11      0.011\n",
            "12      0.111\n",
            "13      0.000\n",
            "14      0.000\n",
            "15     -0.028\n",
            "16      0.135\n",
            "17     -0.099\n",
            "18      0.267\n",
            "19      0.209\n",
            "20      0.000\n",
            "21      0.000\n",
            "22      0.000\n"
          ]
        }
      ]
    },
    {
      "cell_type": "code",
      "source": [
        "aic_bic_score=pd.DataFrame(aic_bic_score)"
      ],
      "metadata": {
        "id": "i8FlasBT6nRN"
      },
      "execution_count": null,
      "outputs": []
    },
    {
      "cell_type": "code",
      "source": [
        "aic_bic_score[0][0]=\"AIC\"\n",
        "aic_bic_score[1][0]=\"BIC\""
      ],
      "metadata": {
        "colab": {
          "base_uri": "https://localhost:8080/"
        },
        "id": "aUQW0QH8DsYb",
        "outputId": "fba08a77-2556-4805-e356-923139e75382"
      },
      "execution_count": null,
      "outputs": [
        {
          "output_type": "stream",
          "name": "stderr",
          "text": [
            "/usr/local/lib/python3.7/dist-packages/ipykernel_launcher.py:2: SettingWithCopyWarning: \n",
            "A value is trying to be set on a copy of a slice from a DataFrame\n",
            "\n",
            "See the caveats in the documentation: https://pandas.pydata.org/pandas-docs/stable/user_guide/indexing.html#returning-a-view-versus-a-copy\n",
            "  \n",
            "/usr/local/lib/python3.7/dist-packages/pandas/core/indexing.py:1732: SettingWithCopyWarning: \n",
            "A value is trying to be set on a copy of a slice from a DataFrame\n",
            "\n",
            "See the caveats in the documentation: https://pandas.pydata.org/pandas-docs/stable/user_guide/indexing.html#returning-a-view-versus-a-copy\n",
            "  self._setitem_single_block(indexer, value, name)\n"
          ]
        }
      ]
    },
    {
      "cell_type": "code",
      "source": [
        "Utility=[]\n",
        "Utility.append(\"Type\")\n",
        "for i in range(n1):\n",
        "  Utility.append('3C3')\n",
        "for i in range(n1):\n",
        "  Utility.append('IH')\n",
        "for i in range(n1):\n",
        "  Utility.append('IC')\n",
        "for i in range(n1):\n",
        "  Utility.append('HC')\n",
        "for i in range(n1):\n",
        "  Utility.append('I')\n",
        "for i in range(n1):\n",
        "  Utility.append('H')\n",
        "for i in range(n1):\n",
        "  Utility.append('C')\n",
        "print(Utility)\n",
        "aic_bic_score[\"Utility\"]=Utility\n",
        "aic_bic_score.to_csv('AIC_BIC_SCORE.csv', mode='a', index=False, header=False)"
      ],
      "metadata": {
        "id": "wrAHnk2YFHjB",
        "colab": {
          "base_uri": "https://localhost:8080/"
        },
        "outputId": "41484fdf-82ca-420c-c663-97d51aa07f6d"
      },
      "execution_count": null,
      "outputs": [
        {
          "output_type": "stream",
          "name": "stdout",
          "text": [
            "['Type', '3C3', '3C3', '3C3', '3C3', '3C3', '3C3', '3C3', '3C3', '3C3', '3C3', '3C3', '3C3', '3C3', '3C3', '3C3', '3C3', '3C3', '3C3', '3C3', '3C3', '3C3', '3C3', '3C3', 'IH', 'IH', 'IH', 'IH', 'IH', 'IH', 'IH', 'IH', 'IH', 'IH', 'IH', 'IH', 'IH', 'IH', 'IH', 'IH', 'IH', 'IH', 'IH', 'IH', 'IH', 'IH', 'IH', 'IC', 'IC', 'IC', 'IC', 'IC', 'IC', 'IC', 'IC', 'IC', 'IC', 'IC', 'IC', 'IC', 'IC', 'IC', 'IC', 'IC', 'IC', 'IC', 'IC', 'IC', 'IC', 'IC', 'HC', 'HC', 'HC', 'HC', 'HC', 'HC', 'HC', 'HC', 'HC', 'HC', 'HC', 'HC', 'HC', 'HC', 'HC', 'HC', 'HC', 'HC', 'HC', 'HC', 'HC', 'HC', 'HC', 'I', 'I', 'I', 'I', 'I', 'I', 'I', 'I', 'I', 'I', 'I', 'I', 'I', 'I', 'I', 'I', 'I', 'I', 'I', 'I', 'I', 'I', 'I', 'H', 'H', 'H', 'H', 'H', 'H', 'H', 'H', 'H', 'H', 'H', 'H', 'H', 'H', 'H', 'H', 'H', 'H', 'H', 'H', 'H', 'H', 'H', 'C', 'C', 'C', 'C', 'C', 'C', 'C', 'C', 'C', 'C', 'C', 'C', 'C', 'C', 'C', 'C', 'C', 'C', 'C', 'C', 'C', 'C', 'C']\n"
          ]
        }
      ]
    },
    {
      "cell_type": "code",
      "source": [
        "#print(aic_bic_score)"
      ],
      "metadata": {
        "id": "llfpfdDShdl_"
      },
      "execution_count": null,
      "outputs": []
    },
    {
      "cell_type": "code",
      "source": [
        "dfl1={'coef':[],'intercept':[]}\n",
        "dfl1['coef']=l211\n",
        "dfl1['intercept']=l212\n",
        "dfl1=pd.DataFrame(dfl1)\n",
        "dfl1"
      ],
      "metadata": {
        "colab": {
          "base_uri": "https://localhost:8080/",
          "height": 771
        },
        "id": "DZ8MeVHghkma",
        "outputId": "bf256a94-1170-4e5f-f3e6-1335a19ab9d3"
      },
      "execution_count": null,
      "outputs": [
        {
          "output_type": "execute_result",
          "data": {
            "text/plain": [
              "     coef  intercept\n",
              "0   0.172      2.241\n",
              "1  -0.000      3.000\n",
              "2   0.135     -0.087\n",
              "3   0.180      0.885\n",
              "4   0.506      1.252\n",
              "5   0.604      0.440\n",
              "6  -0.231      0.923\n",
              "7   0.188      0.194\n",
              "8  -0.000     -0.000\n",
              "9   0.375      1.375\n",
              "10 -0.000      3.000\n",
              "11 -0.000      3.000\n",
              "12 -0.099      0.929\n",
              "13 -0.000      3.000\n",
              "14  0.286      2.143\n",
              "15 -0.619      1.952\n",
              "16 -0.036      2.432\n",
              "17 -0.175      2.157\n",
              "18  0.465      1.209\n",
              "19 -0.000     -1.000\n",
              "20  0.118      1.559\n",
              "21 -0.000      2.000\n",
              "22 -0.035      2.525"
            ],
            "text/html": [
              "\n",
              "  <div id=\"df-1b12d8a5-3d85-4c4c-a3b7-304709533d43\">\n",
              "    <div class=\"colab-df-container\">\n",
              "      <div>\n",
              "<style scoped>\n",
              "    .dataframe tbody tr th:only-of-type {\n",
              "        vertical-align: middle;\n",
              "    }\n",
              "\n",
              "    .dataframe tbody tr th {\n",
              "        vertical-align: top;\n",
              "    }\n",
              "\n",
              "    .dataframe thead th {\n",
              "        text-align: right;\n",
              "    }\n",
              "</style>\n",
              "<table border=\"1\" class=\"dataframe\">\n",
              "  <thead>\n",
              "    <tr style=\"text-align: right;\">\n",
              "      <th></th>\n",
              "      <th>coef</th>\n",
              "      <th>intercept</th>\n",
              "    </tr>\n",
              "  </thead>\n",
              "  <tbody>\n",
              "    <tr>\n",
              "      <th>0</th>\n",
              "      <td>0.172</td>\n",
              "      <td>2.241</td>\n",
              "    </tr>\n",
              "    <tr>\n",
              "      <th>1</th>\n",
              "      <td>-0.000</td>\n",
              "      <td>3.000</td>\n",
              "    </tr>\n",
              "    <tr>\n",
              "      <th>2</th>\n",
              "      <td>0.135</td>\n",
              "      <td>-0.087</td>\n",
              "    </tr>\n",
              "    <tr>\n",
              "      <th>3</th>\n",
              "      <td>0.180</td>\n",
              "      <td>0.885</td>\n",
              "    </tr>\n",
              "    <tr>\n",
              "      <th>4</th>\n",
              "      <td>0.506</td>\n",
              "      <td>1.252</td>\n",
              "    </tr>\n",
              "    <tr>\n",
              "      <th>5</th>\n",
              "      <td>0.604</td>\n",
              "      <td>0.440</td>\n",
              "    </tr>\n",
              "    <tr>\n",
              "      <th>6</th>\n",
              "      <td>-0.231</td>\n",
              "      <td>0.923</td>\n",
              "    </tr>\n",
              "    <tr>\n",
              "      <th>7</th>\n",
              "      <td>0.188</td>\n",
              "      <td>0.194</td>\n",
              "    </tr>\n",
              "    <tr>\n",
              "      <th>8</th>\n",
              "      <td>-0.000</td>\n",
              "      <td>-0.000</td>\n",
              "    </tr>\n",
              "    <tr>\n",
              "      <th>9</th>\n",
              "      <td>0.375</td>\n",
              "      <td>1.375</td>\n",
              "    </tr>\n",
              "    <tr>\n",
              "      <th>10</th>\n",
              "      <td>-0.000</td>\n",
              "      <td>3.000</td>\n",
              "    </tr>\n",
              "    <tr>\n",
              "      <th>11</th>\n",
              "      <td>-0.000</td>\n",
              "      <td>3.000</td>\n",
              "    </tr>\n",
              "    <tr>\n",
              "      <th>12</th>\n",
              "      <td>-0.099</td>\n",
              "      <td>0.929</td>\n",
              "    </tr>\n",
              "    <tr>\n",
              "      <th>13</th>\n",
              "      <td>-0.000</td>\n",
              "      <td>3.000</td>\n",
              "    </tr>\n",
              "    <tr>\n",
              "      <th>14</th>\n",
              "      <td>0.286</td>\n",
              "      <td>2.143</td>\n",
              "    </tr>\n",
              "    <tr>\n",
              "      <th>15</th>\n",
              "      <td>-0.619</td>\n",
              "      <td>1.952</td>\n",
              "    </tr>\n",
              "    <tr>\n",
              "      <th>16</th>\n",
              "      <td>-0.036</td>\n",
              "      <td>2.432</td>\n",
              "    </tr>\n",
              "    <tr>\n",
              "      <th>17</th>\n",
              "      <td>-0.175</td>\n",
              "      <td>2.157</td>\n",
              "    </tr>\n",
              "    <tr>\n",
              "      <th>18</th>\n",
              "      <td>0.465</td>\n",
              "      <td>1.209</td>\n",
              "    </tr>\n",
              "    <tr>\n",
              "      <th>19</th>\n",
              "      <td>-0.000</td>\n",
              "      <td>-1.000</td>\n",
              "    </tr>\n",
              "    <tr>\n",
              "      <th>20</th>\n",
              "      <td>0.118</td>\n",
              "      <td>1.559</td>\n",
              "    </tr>\n",
              "    <tr>\n",
              "      <th>21</th>\n",
              "      <td>-0.000</td>\n",
              "      <td>2.000</td>\n",
              "    </tr>\n",
              "    <tr>\n",
              "      <th>22</th>\n",
              "      <td>-0.035</td>\n",
              "      <td>2.525</td>\n",
              "    </tr>\n",
              "  </tbody>\n",
              "</table>\n",
              "</div>\n",
              "      <button class=\"colab-df-convert\" onclick=\"convertToInteractive('df-1b12d8a5-3d85-4c4c-a3b7-304709533d43')\"\n",
              "              title=\"Convert this dataframe to an interactive table.\"\n",
              "              style=\"display:none;\">\n",
              "        \n",
              "  <svg xmlns=\"http://www.w3.org/2000/svg\" height=\"24px\"viewBox=\"0 0 24 24\"\n",
              "       width=\"24px\">\n",
              "    <path d=\"M0 0h24v24H0V0z\" fill=\"none\"/>\n",
              "    <path d=\"M18.56 5.44l.94 2.06.94-2.06 2.06-.94-2.06-.94-.94-2.06-.94 2.06-2.06.94zm-11 1L8.5 8.5l.94-2.06 2.06-.94-2.06-.94L8.5 2.5l-.94 2.06-2.06.94zm10 10l.94 2.06.94-2.06 2.06-.94-2.06-.94-.94-2.06-.94 2.06-2.06.94z\"/><path d=\"M17.41 7.96l-1.37-1.37c-.4-.4-.92-.59-1.43-.59-.52 0-1.04.2-1.43.59L10.3 9.45l-7.72 7.72c-.78.78-.78 2.05 0 2.83L4 21.41c.39.39.9.59 1.41.59.51 0 1.02-.2 1.41-.59l7.78-7.78 2.81-2.81c.8-.78.8-2.07 0-2.86zM5.41 20L4 18.59l7.72-7.72 1.47 1.35L5.41 20z\"/>\n",
              "  </svg>\n",
              "      </button>\n",
              "      \n",
              "  <style>\n",
              "    .colab-df-container {\n",
              "      display:flex;\n",
              "      flex-wrap:wrap;\n",
              "      gap: 12px;\n",
              "    }\n",
              "\n",
              "    .colab-df-convert {\n",
              "      background-color: #E8F0FE;\n",
              "      border: none;\n",
              "      border-radius: 50%;\n",
              "      cursor: pointer;\n",
              "      display: none;\n",
              "      fill: #1967D2;\n",
              "      height: 32px;\n",
              "      padding: 0 0 0 0;\n",
              "      width: 32px;\n",
              "    }\n",
              "\n",
              "    .colab-df-convert:hover {\n",
              "      background-color: #E2EBFA;\n",
              "      box-shadow: 0px 1px 2px rgba(60, 64, 67, 0.3), 0px 1px 3px 1px rgba(60, 64, 67, 0.15);\n",
              "      fill: #174EA6;\n",
              "    }\n",
              "\n",
              "    [theme=dark] .colab-df-convert {\n",
              "      background-color: #3B4455;\n",
              "      fill: #D2E3FC;\n",
              "    }\n",
              "\n",
              "    [theme=dark] .colab-df-convert:hover {\n",
              "      background-color: #434B5C;\n",
              "      box-shadow: 0px 1px 3px 1px rgba(0, 0, 0, 0.15);\n",
              "      filter: drop-shadow(0px 1px 2px rgba(0, 0, 0, 0.3));\n",
              "      fill: #FFFFFF;\n",
              "    }\n",
              "  </style>\n",
              "\n",
              "      <script>\n",
              "        const buttonEl =\n",
              "          document.querySelector('#df-1b12d8a5-3d85-4c4c-a3b7-304709533d43 button.colab-df-convert');\n",
              "        buttonEl.style.display =\n",
              "          google.colab.kernel.accessAllowed ? 'block' : 'none';\n",
              "\n",
              "        async function convertToInteractive(key) {\n",
              "          const element = document.querySelector('#df-1b12d8a5-3d85-4c4c-a3b7-304709533d43');\n",
              "          const dataTable =\n",
              "            await google.colab.kernel.invokeFunction('convertToInteractive',\n",
              "                                                     [key], {});\n",
              "          if (!dataTable) return;\n",
              "\n",
              "          const docLinkHtml = 'Like what you see? Visit the ' +\n",
              "            '<a target=\"_blank\" href=https://colab.research.google.com/notebooks/data_table.ipynb>data table notebook</a>'\n",
              "            + ' to learn more about interactive tables.';\n",
              "          element.innerHTML = '';\n",
              "          dataTable['output_type'] = 'display_data';\n",
              "          await google.colab.output.renderOutput(dataTable, element);\n",
              "          const docLink = document.createElement('div');\n",
              "          docLink.innerHTML = docLinkHtml;\n",
              "          element.appendChild(docLink);\n",
              "        }\n",
              "      </script>\n",
              "    </div>\n",
              "  </div>\n",
              "  "
            ]
          },
          "metadata": {},
          "execution_count": 445
        }
      ]
    },
    {
      "cell_type": "markdown",
      "source": [
        "want to seek info = coef * expected value + intercept"
      ],
      "metadata": {
        "id": "x4pueG79pUn0"
      }
    },
    {
      "cell_type": "code",
      "source": [
        "print(np.mean(l211))"
      ],
      "metadata": {
        "colab": {
          "base_uri": "https://localhost:8080/"
        },
        "id": "jNkc8Mc_pb8b",
        "outputId": "2634ac3e-a569-441a-dc18-21c649b015bb"
      },
      "execution_count": null,
      "outputs": [
        {
          "output_type": "stream",
          "name": "stdout",
          "text": [
            "0.0797391304347826\n"
          ]
        }
      ]
    },
    {
      "cell_type": "code",
      "source": [
        "print(np.median(l211))"
      ],
      "metadata": {
        "colab": {
          "base_uri": "https://localhost:8080/"
        },
        "id": "PJM5EHgsrLpo",
        "outputId": "ec9b7ef3-e3b4-408b-c45f-03d7552e33e1"
      },
      "execution_count": null,
      "outputs": [
        {
          "output_type": "stream",
          "name": "stdout",
          "text": [
            "0.0\n"
          ]
        }
      ]
    }
  ],
  "metadata": {
    "colab": {
      "collapsed_sections": [],
      "name": "BSE662.ipynb",
      "provenance": []
    },
    "kernelspec": {
      "display_name": "Python 3",
      "name": "python3"
    },
    "language_info": {
      "name": "python"
    }
  },
  "nbformat": 4,
  "nbformat_minor": 0
}